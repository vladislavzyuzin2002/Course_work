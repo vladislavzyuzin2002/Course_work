{
  "nbformat": 4,
  "nbformat_minor": 0,
  "metadata": {
    "colab": {
      "provenance": []
    },
    "kernelspec": {
      "name": "python3",
      "display_name": "Python 3"
    },
    "language_info": {
      "name": "python"
    }
  },
  "cells": [
    {
      "cell_type": "markdown",
      "source": [
        "# Загрузка библиотек"
      ],
      "metadata": {
        "id": "dww1DpmD_EPh"
      }
    },
    {
      "cell_type": "code",
      "source": [
        "!pip install plotly"
      ],
      "metadata": {
        "colab": {
          "base_uri": "https://localhost:8080/"
        },
        "id": "wc6eGorkVWyj",
        "outputId": "efafcde5-fe64-4ce0-9b59-a2134977e7ec"
      },
      "execution_count": 1,
      "outputs": [
        {
          "output_type": "stream",
          "name": "stdout",
          "text": [
            "Looking in indexes: https://pypi.org/simple, https://us-python.pkg.dev/colab-wheels/public/simple/\n",
            "Requirement already satisfied: plotly in /usr/local/lib/python3.10/dist-packages (5.13.1)\n",
            "Requirement already satisfied: tenacity>=6.2.0 in /usr/local/lib/python3.10/dist-packages (from plotly) (8.2.2)\n"
          ]
        }
      ]
    },
    {
      "cell_type": "code",
      "source": [
        "!pip install yahoofinancials\n",
        "from yahoofinancials import YahooFinancials\n",
        "import numpy as np\n",
        "import tensorflow as tf\n",
        "from tensorflow import keras\n",
        "from tensorflow.keras import layers\n",
        "from sklearn.metrics import mean_absolute_error\n",
        "from keras.layers import Flatten\n",
        "from keras import backend as K\n",
        "import plotly\n",
        "import plotly.graph_objs as go\n",
        "import plotly.express as px\n",
        "from sklearn.preprocessing import MinMaxScaler\n",
        "from sklearn.metrics import mean_squared_error\n",
        "import sqlite3\n",
        "import pandas as pd\n",
        "import math\n",
        "import matplotlib.pyplot as plt\n",
        "plt.style.use('seaborn')\n",
        "from datetime import datetime"
      ],
      "metadata": {
        "colab": {
          "base_uri": "https://localhost:8080/"
        },
        "id": "2Zc62cfGNSqo",
        "outputId": "6748b03a-b00b-4572-b646-da7927ff5db2"
      },
      "execution_count": 2,
      "outputs": [
        {
          "output_type": "stream",
          "name": "stdout",
          "text": [
            "Looking in indexes: https://pypi.org/simple, https://us-python.pkg.dev/colab-wheels/public/simple/\n",
            "Requirement already satisfied: yahoofinancials in /usr/local/lib/python3.10/dist-packages (1.14)\n",
            "Requirement already satisfied: pytz in /usr/local/lib/python3.10/dist-packages (from yahoofinancials) (2022.7.1)\n",
            "Requirement already satisfied: requests>=2.26 in /usr/local/lib/python3.10/dist-packages (from yahoofinancials) (2.27.1)\n",
            "Requirement already satisfied: urllib3<1.27,>=1.21.1 in /usr/local/lib/python3.10/dist-packages (from requests>=2.26->yahoofinancials) (1.26.15)\n",
            "Requirement already satisfied: certifi>=2017.4.17 in /usr/local/lib/python3.10/dist-packages (from requests>=2.26->yahoofinancials) (2022.12.7)\n",
            "Requirement already satisfied: charset-normalizer~=2.0.0 in /usr/local/lib/python3.10/dist-packages (from requests>=2.26->yahoofinancials) (2.0.12)\n",
            "Requirement already satisfied: idna<4,>=2.5 in /usr/local/lib/python3.10/dist-packages (from requests>=2.26->yahoofinancials) (3.4)\n"
          ]
        },
        {
          "output_type": "stream",
          "name": "stderr",
          "text": [
            "<ipython-input-2-a0c044f2b17d>:19: MatplotlibDeprecationWarning: The seaborn styles shipped by Matplotlib are deprecated since 3.6, as they no longer correspond to the styles shipped by seaborn. However, they will remain available as 'seaborn-v0_8-<style>'. Alternatively, directly use the seaborn API instead.\n",
            "  plt.style.use('seaborn')\n"
          ]
        }
      ]
    },
    {
      "cell_type": "markdown",
      "source": [
        "#Вспомогательные функции для визуализации данных"
      ],
      "metadata": {
        "id": "gP8O-Cz2B0LS"
      }
    },
    {
      "cell_type": "code",
      "source": [
        "def flatten(train):\n",
        "  names = []\n",
        "  for train in train:\n",
        "    for name in train:\n",
        "        names.append(name)\n",
        "  return names"
      ],
      "metadata": {
        "id": "p34-VeOTA1qe"
      },
      "execution_count": 3,
      "outputs": []
    },
    {
      "cell_type": "code",
      "source": [
        "def plot_predictions1(train, valid, predictions, symbol):\n",
        "\n",
        "  x_train = list(range(0, len(train)))\n",
        "  x_valid = list(range(len(train)-1, len(valid) + len(train)))\n",
        "\n",
        "  fig = go.Figure()\n",
        "  fig.add_trace(go.Scatter(x=x_train, y=flatten(train), mode='lines+markers', marker=dict(size=4),  name='train', marker_color='#39304A'))\n",
        "  fig.add_trace(go.Scatter(x=x_valid, y=flatten(valid), mode='lines+markers', marker=dict(size=4), name='valid', marker_color='blue'))\n",
        "  fig.add_trace(go.Scatter(x=x_valid, y=flatten(predictions), mode='lines+markers', marker=dict(size=4), name='predictions', marker_color='red'))\n",
        "  fig.update_layout(legend_orientation=\"h\",\n",
        "                  legend=dict(x=.5, xanchor=\"center\"),\n",
        "                  plot_bgcolor='#FFFFFF',  \n",
        "                  xaxis=dict(gridcolor = 'lightgrey'),\n",
        "                  yaxis=dict(gridcolor = 'lightgrey'),    \n",
        "                  title_text = f'{symbol} цены на акции', title_x = 0.5,\n",
        "                  xaxis_title=\"Дата\",\n",
        "                  yaxis_title=\"Цены на акции\",\n",
        "                  margin=dict(l=0, r=0, t=30, b=0))\n",
        "  fig.show()"
      ],
      "metadata": {
        "id": "eAmJbAz3TrIf"
      },
      "execution_count": 4,
      "outputs": []
    },
    {
      "cell_type": "code",
      "source": [
        "import yfinance as yf"
      ],
      "metadata": {
        "id": "8-uIWHZhT_JZ"
      },
      "execution_count": 7,
      "outputs": []
    },
    {
      "cell_type": "code",
      "execution_count": 5,
      "metadata": {
        "id": "NqXM5LeRwAQ4"
      },
      "outputs": [],
      "source": [
        "#For reproducability\n",
        "from numpy.random import seed\n",
        "seed(1)\n",
        "tf.random.set_seed(2)\n",
        "\n",
        "# Some functions to help out with\n",
        "def plot_predictions(train, valid, predictions, symbol):\n",
        "\n",
        "    plt.plot(valid, color='red',label=f'Real {symbol} Stock Price')\n",
        "    plt.plot(predictions, color='blue',label=f'Predicted {symbol} Stock Price')\n",
        "    plt.title(f'{symbol} Stock Price Prediction')\n",
        "    plt.xlabel('Time')\n",
        "    plt.ylabel(f'{symbol} Stock Price')\n",
        "    plt.legend()\n",
        "    plt.show()\n",
        "\n",
        "def plot_return_predictions(test,predicted,symbol):\n",
        "    plt.plot(test, color='red',label=f'Real {symbol} Stock Price Returns')\n",
        "    plt.plot(predicted, color='blue',label=f'Predicted {symbol} Stock Price Return')\n",
        "    plt.title(f'{symbol} Stock Return Prediction')\n",
        "    plt.xlabel('Time')\n",
        "    plt.ylabel(f'{symbol} Stock Price Returns')\n",
        "    plt.legend()\n",
        "    plt.show()\n",
        "    \n",
        "def return_rmse(test, predicted):\n",
        "    rmse = math.sqrt(mean_squared_error(test, predicted))\n",
        "    print(\"The root mean squared error is {}.\".format(rmse))\n",
        "    mse = mean_squared_error(test, predicted)\n",
        "    print('MSE: '+str(mse))\n",
        "    mae = mean_absolute_error(test, predicted)\n",
        "    print('MAE: '+str(mae))\n",
        "    rmse = math.sqrt(mean_squared_error(test, predicted))\n",
        "    print('RMSE: '+str(rmse))\n",
        "    mape = np.mean(np.abs(predicted - test)/np.abs(test))\n",
        "    print('MAPE: '+str(mape))\n",
        "    return rmse\n",
        "    \n",
        "def shift(xs, n):\n",
        "    e = np.empty_like(xs)\n",
        "    if n >= 0:\n",
        "        e[:n] = np.nan\n",
        "        e[n:] = xs[:-n]\n",
        "    else:\n",
        "        e[n:] = np.nan\n",
        "        e[:n] = xs[-n:]\n",
        "    return e"
      ]
    },
    {
      "cell_type": "code",
      "source": [
        "stock_name4 = 'IBM'  \n",
        "data4 = yf.download(stock_name4, start=\"2023-05-05\", end=\"2023-05-12\", interval = \"1m\").reset_index()\n",
        "raw_data = data4\n",
        "print(raw_data)"
      ],
      "metadata": {
        "colab": {
          "base_uri": "https://localhost:8080/"
        },
        "id": "jRsPUvHJey2q",
        "outputId": "6f522692-4870-46f1-e5f6-dca70f719851"
      },
      "execution_count": 8,
      "outputs": [
        {
          "output_type": "stream",
          "name": "stdout",
          "text": [
            "\r[*********************100%***********************]  1 of 1 completed\n",
            "                      Datetime        Open        High         Low  \\\n",
            "0    2023-05-05 09:30:00-04:00  123.110001  123.500000  123.110001   \n",
            "1    2023-05-05 09:31:00-04:00  123.305000  123.639999  123.239998   \n",
            "2    2023-05-05 09:32:00-04:00  123.605003  123.730003  123.550003   \n",
            "3    2023-05-05 09:33:00-04:00  123.589996  123.660004  123.529999   \n",
            "4    2023-05-05 09:34:00-04:00  123.605003  123.690002  123.550003   \n",
            "...                        ...         ...         ...         ...   \n",
            "1934 2023-05-11 15:55:00-04:00  120.919998  120.949997  120.885002   \n",
            "1935 2023-05-11 15:56:00-04:00  120.925499  120.959999  120.904999   \n",
            "1936 2023-05-11 15:57:00-04:00  120.925003  120.959999  120.879997   \n",
            "1937 2023-05-11 15:58:00-04:00  120.900002  120.930000  120.885002   \n",
            "1938 2023-05-11 15:59:00-04:00  120.900002  120.949997  120.870003   \n",
            "\n",
            "           Close   Adj Close  Volume  \n",
            "0     123.305000  123.305000   88659  \n",
            "1     123.599998  123.599998   16345  \n",
            "2     123.570000  123.570000    8739  \n",
            "3     123.580002  123.580002    9694  \n",
            "4     123.550003  123.550003    7166  \n",
            "...          ...         ...     ...  \n",
            "1934  120.925003  120.925003   29619  \n",
            "1935  120.925003  120.925003   24712  \n",
            "1936  120.910004  120.910004   39233  \n",
            "1937  120.900002  120.900002   33809  \n",
            "1938  120.900002  120.900002   63666  \n",
            "\n",
            "[1939 rows x 7 columns]\n"
          ]
        }
      ]
    },
    {
      "cell_type": "markdown",
      "source": [
        "#Выгрузка данных"
      ],
      "metadata": {
        "id": "EOPWjYimCGmd"
      }
    },
    {
      "cell_type": "markdown",
      "source": [
        "Выгрузка данных происходит иначе по сравнению с другими моделями:"
      ],
      "metadata": {
        "id": "o4IEhrRQCLAE"
      }
    },
    {
      "cell_type": "code",
      "source": [
        "stock_name4 = 'TSLA'  \n",
        "data = yf.download(stock_name4, start=\"2023-05-05\", end=\"2023-05-12\", interval = \"1m\").reset_index()\n",
        "raw_data = data\n",
        "print(raw_data)"
      ],
      "metadata": {
        "colab": {
          "base_uri": "https://localhost:8080/"
        },
        "id": "xi64Cj0f2kfj",
        "outputId": "976dc3db-9e22-4a48-a0a7-0af3fbf730fb"
      },
      "execution_count": 9,
      "outputs": [
        {
          "output_type": "stream",
          "name": "stdout",
          "text": [
            "\r[*********************100%***********************]  1 of 1 completed\n",
            "                      Datetime        Open        High         Low  \\\n",
            "0    2023-05-05 09:30:00-04:00  163.970001  164.610001  163.509995   \n",
            "1    2023-05-05 09:31:00-04:00  164.359894  164.449997  164.054993   \n",
            "2    2023-05-05 09:32:00-04:00  164.044495  164.479996  163.979996   \n",
            "3    2023-05-05 09:33:00-04:00  164.300003  164.419998  163.869995   \n",
            "4    2023-05-05 09:34:00-04:00  164.029907  164.979996  163.940002   \n",
            "...                        ...         ...         ...         ...   \n",
            "1934 2023-05-11 15:55:00-04:00  172.160004  172.199997  171.759995   \n",
            "1935 2023-05-11 15:56:00-04:00  171.910004  172.320007  171.830002   \n",
            "1936 2023-05-11 15:57:00-04:00  172.259995  172.630005  172.229996   \n",
            "1937 2023-05-11 15:58:00-04:00  172.259995  172.279999  171.839996   \n",
            "1938 2023-05-11 15:59:00-04:00  171.845001  172.169998  171.789993   \n",
            "\n",
            "           Close   Adj Close   Volume  \n",
            "0     164.264999  164.264999  3008840  \n",
            "1     164.054993  164.054993   473629  \n",
            "2     164.320007  164.320007   562677  \n",
            "3     164.020004  164.020004   533641  \n",
            "4     164.869904  164.869904   900852  \n",
            "...          ...         ...      ...  \n",
            "1934  171.899994  171.899994   638411  \n",
            "1935  172.250107  172.250107   681057  \n",
            "1936  172.250000  172.250000   645379  \n",
            "1937  171.839996  171.839996   557501  \n",
            "1938  172.059998  172.059998  1079094  \n",
            "\n",
            "[1939 rows x 7 columns]\n"
          ]
        }
      ]
    },
    {
      "cell_type": "code",
      "source": [
        "data = data.filter(['Close'])\n",
        "dataset = data.values\n",
        "\n",
        "training_data_len = int(np.ceil( len(dataset) * .80 ))\n",
        "\n",
        "scaler = MinMaxScaler(feature_range=(0,1))\n",
        "scaled_data = scaler.fit_transform(dataset)\n",
        "\n",
        "train_data = scaled_data[0:int(training_data_len), :]\n",
        "x_train = []\n",
        "y_train = []\n",
        "\n",
        "for i in range(60, len(train_data)):\n",
        "        x_train.append(train_data[i-60:i, 0])\n",
        "        y_train.append(train_data[i, 0])\n",
        "\n",
        "x_train, y_train = np.array(x_train), np.array(y_train)\n",
        "\n",
        "x_train = np.reshape(x_train, (x_train.shape[0], x_train.shape[1], 1))"
      ],
      "metadata": {
        "id": "27lK5xYPwCe2"
      },
      "execution_count": 10,
      "outputs": []
    },
    {
      "cell_type": "code",
      "source": [
        "test_data = scaled_data[training_data_len - 8: , :]\n",
        "x_test = []\n",
        "y_test = dataset[training_data_len:, :]\n",
        "\n",
        "for i in range(8, len(test_data)):\n",
        "  x_test.append(test_data[i-8:i, 0])\n",
        "  \n",
        "x_test = np.array(x_test)\n",
        "x_test = np.reshape(x_test, (x_test.shape[0], x_test.shape[1], 1 ))\n",
        "print(x_test.shape)"
      ],
      "metadata": {
        "colab": {
          "base_uri": "https://localhost:8080/"
        },
        "id": "nqwMwuwL3lMY",
        "outputId": "750dea9d-6a0c-4fcc-e655-877da5ac688b"
      },
      "execution_count": 11,
      "outputs": [
        {
          "output_type": "stream",
          "name": "stdout",
          "text": [
            "(387, 8, 1)\n"
          ]
        }
      ]
    },
    {
      "cell_type": "code",
      "source": [
        "fig, ax = plt.subplots()\n",
        "plt.plot(list(range(len(train_data), len(train_data) + len(test_data))),test_data, color='red')\n",
        "plt.plot(list(range(0, len(train_data))),train_data, color='blue')\n",
        "plt.show()"
      ],
      "metadata": {
        "id": "K0I0O_CKwZiF",
        "colab": {
          "base_uri": "https://localhost:8080/",
          "height": 484
        },
        "outputId": "342ba844-c5c3-4f58-e0b8-03d27bffe382"
      },
      "execution_count": 12,
      "outputs": [
        {
          "output_type": "display_data",
          "data": {
            "text/plain": [
              "<Figure size 800x550 with 1 Axes>"
            ],
            "image/png": "[encoded data removed]"
          },
          "metadata": {}
        }
      ]
    },
    {
      "cell_type": "markdown",
      "source": [
        "#Обработка данных"
      ],
      "metadata": {
        "id": "EnrEwgB8C8Jv"
      }
    },
    {
      "cell_type": "code",
      "source": [
        "# Scaling the training set\n",
        "sc = MinMaxScaler(feature_range=(0,1))\n",
        "training_set_scaled = scaled_data"
      ],
      "metadata": {
        "id": "jzUT9m3rwoDk"
      },
      "execution_count": 13,
      "outputs": []
    },
    {
      "cell_type": "code",
      "source": [
        "timesteps = 8\n",
        "# First, we create data sets where each sample has with 8 timesteps and 1 output\n",
        "# So for each element of training set, we have 8 previous training set elements \n",
        "x_train = []\n",
        "y_train = []\n",
        "for i in range(timesteps, len(training_set_scaled)):\n",
        "    x_train.append(training_set_scaled[i-timesteps:i,0])\n",
        "    y_train.append(training_set_scaled[i,0])\n",
        "x_train, y_train = np.array(x_train), np.array(y_train)"
      ],
      "metadata": {
        "id": "YCgu8eyuwR69"
      },
      "execution_count": 14,
      "outputs": []
    },
    {
      "cell_type": "markdown",
      "source": [
        "#Transformer"
      ],
      "metadata": {
        "id": "aHcJXZBeDg-l"
      }
    },
    {
      "cell_type": "markdown",
      "source": [
        "Энкодер с многоголовочным механизмом внимания"
      ],
      "metadata": {
        "id": "AYcbdNjlDmlc"
      }
    },
    {
      "cell_type": "code",
      "source": [
        "def transformer_encoder(inputs, head_size, num_heads, ff_dim, dropout=0):\n",
        "    \n",
        "    # Normalization and Attention\n",
        "    # \"EMBEDDING LAYER\"\n",
        "    x = layers.LayerNormalization(epsilon=1e-6)(inputs)\n",
        "    \n",
        "    # \"ATTENTION LAYER\"\n",
        "    x = layers.MultiHeadAttention(\n",
        "        key_dim=head_size, num_heads=num_heads, dropout=dropout\n",
        "    )(x, x)\n",
        "    x = layers.Dropout(dropout)(x)\n",
        "    res = x + inputs\n",
        "    \n",
        "    # FEED FORWARD Part - you can stick anything here or just delete the whole section - it will still work. \n",
        "    x = layers.LayerNormalization(epsilon=1e-6)(res)\n",
        "    x = layers.Conv1D(filters=ff_dim, kernel_size=1, activation = \"relu\")(x)\n",
        "    x = layers.Dropout(dropout)(x)\n",
        "    x = layers.Conv1D(filters=inputs.shape[-1], kernel_size=1)(x)\n",
        "    return x + res"
      ],
      "metadata": {
        "id": "AVf8ZijdwfUP"
      },
      "execution_count": 15,
      "outputs": []
    },
    {
      "cell_type": "markdown",
      "source": [
        "Сама модель имеет вид:"
      ],
      "metadata": {
        "id": "r1JxrNbkD0yV"
      }
    },
    {
      "cell_type": "code",
      "source": [
        "def build_model(\n",
        "    input_shape,\n",
        "    head_size,\n",
        "    num_heads,\n",
        "    ff_dim,\n",
        "    num_transformer_blocks,\n",
        "    mlp_units,\n",
        "    dropout=0,\n",
        "    mlp_dropout=0,\n",
        "):\n",
        "    inputs = keras.Input(shape=input_shape)\n",
        "    x = inputs\n",
        "    \n",
        "    for _ in range(num_transformer_blocks):  # This is what stacks our transformer blocks\n",
        "        x = transformer_encoder(x, head_size, num_heads, ff_dim, dropout)\n",
        "\n",
        "    x = layers.GlobalAveragePooling1D(data_format=\"channels_first\")(x)\n",
        "    for dim in mlp_units:\n",
        "        x = layers.Dense(dim, activation=\"elu\")(x)\n",
        "        x = layers.Dropout(mlp_dropout)(x)\n",
        "    outputs = layers.Dense(1, activation=\"linear\")(x) #this is a pass-through\n",
        "    return keras.Model(inputs, outputs)"
      ],
      "metadata": {
        "id": "y-7QFRdSwuNo"
      },
      "execution_count": 16,
      "outputs": []
    },
    {
      "cell_type": "code",
      "source": [
        "def lr_scheduler(epoch, lr, warmup_epochs=30, decay_epochs=100, initial_lr=1e-6, base_lr=1e-3, min_lr=5e-5): #30, 100\n",
        "    if epoch <= warmup_epochs:\n",
        "        pct = epoch / warmup_epochs\n",
        "        return ((base_lr - initial_lr) * pct) + initial_lr\n",
        "\n",
        "    if epoch > warmup_epochs and epoch < warmup_epochs+decay_epochs:\n",
        "        pct = 1 - ((epoch - warmup_epochs) / decay_epochs)\n",
        "        return ((base_lr - min_lr) * pct) + min_lr\n",
        "\n",
        "    return min_lr"
      ],
      "metadata": {
        "id": "UBBZf4TFw26n"
      },
      "execution_count": 17,
      "outputs": []
    },
    {
      "cell_type": "markdown",
      "source": [
        "# Основная модель"
      ],
      "metadata": {
        "id": "6_61k0QnEApn"
      }
    },
    {
      "cell_type": "code",
      "source": [
        "callbacks = [\n",
        "            keras.callbacks.EarlyStopping(patience=10, restore_best_weights=True),\n",
        "            keras.callbacks.LearningRateScheduler(lr_scheduler)\n",
        "            ]"
      ],
      "metadata": {
        "id": "34skxCByww1q"
      },
      "execution_count": 18,
      "outputs": []
    },
    {
      "cell_type": "code",
      "source": [
        "input_shape = x_train.shape[1:][0], 1"
      ],
      "metadata": {
        "id": "rOxTmFelwzIl"
      },
      "execution_count": 19,
      "outputs": []
    },
    {
      "cell_type": "code",
      "source": [
        "model = build_model(\n",
        "    input_shape,\n",
        "    head_size=46, # Embedding size for attention\n",
        "    num_heads=60, # Number of attention heads\n",
        "    ff_dim=55, # Hidden layer size in feed forward network inside transformer\n",
        "    num_transformer_blocks=5,\n",
        "    mlp_units=[256],\n",
        "    mlp_dropout=0.4,\n",
        "    dropout=0.14,\n",
        ")\n",
        "\n",
        "model.compile(\n",
        "    loss=\"mean_squared_error\",\n",
        "    optimizer=keras.optimizers.Adam(learning_rate=1e-4),\n",
        "    metrics=[\"mean_squared_error\"],\n",
        ")\n",
        "#model.summary()\n",
        "\n",
        "\n",
        "history = model.fit(\n",
        "    x_train,\n",
        "    y_train,\n",
        "    validation_split=0.2,\n",
        "    epochs=3,\n",
        "    batch_size=2,\n",
        "    callbacks=callbacks,\n",
        ")"
      ],
      "metadata": {
        "colab": {
          "base_uri": "https://localhost:8080/"
        },
        "id": "wfOXFceew69_",
        "outputId": "9308e38f-0cb9-445f-bb4c-a9ee4d2b8eaa"
      },
      "execution_count": 20,
      "outputs": [
        {
          "output_type": "stream",
          "name": "stdout",
          "text": [
            "Epoch 1/3\n",
            "772/772 [==============================] - 38s 36ms/step - loss: 0.4204 - mean_squared_error: 0.4204 - val_loss: 0.2982 - val_mean_squared_error: 0.2982 - lr: 1.0000e-06\n",
            "Epoch 2/3\n",
            "772/772 [==============================] - 27s 35ms/step - loss: 0.0767 - mean_squared_error: 0.0767 - val_loss: 0.0018 - val_mean_squared_error: 0.0018 - lr: 3.4300e-05\n",
            "Epoch 3/3\n",
            "772/772 [==============================] - 25s 32ms/step - loss: 0.0119 - mean_squared_error: 0.0119 - val_loss: 0.0011 - val_mean_squared_error: 0.0011 - lr: 6.7600e-05\n"
          ]
        }
      ]
    },
    {
      "cell_type": "code",
      "source": [
        "predictions = model.predict(x_test)\n",
        "predictions = scaler.inverse_transform(predictions)"
      ],
      "metadata": {
        "colab": {
          "base_uri": "https://localhost:8080/"
        },
        "id": "NJpZQp7I617o",
        "outputId": "35e03a19-e1f8-49c4-bad8-3dee051f827c"
      },
      "execution_count": 21,
      "outputs": [
        {
          "output_type": "stream",
          "name": "stdout",
          "text": [
            "13/13 [==============================] - 1s 67ms/step\n"
          ]
        }
      ]
    },
    {
      "cell_type": "code",
      "source": [
        "mse = mean_squared_error(y_test, predictions)\n",
        "print('MSE: '+str(mse))\n",
        "mae = mean_absolute_error(y_test, predictions)\n",
        "print('MAE: '+str(mae))\n",
        "rmse = math.sqrt(mean_squared_error(y_test, predictions))\n",
        "print('RMSE: '+str(rmse))\n",
        "mape = np.mean(np.abs(predictions - y_test)/np.abs(y_test))\n",
        "print('MAPE: '+str(mape))"
      ],
      "metadata": {
        "colab": {
          "base_uri": "https://localhost:8080/"
        },
        "id": "8poJuxoS9Iav",
        "outputId": "e5a0c270-cbfa-405d-8035-b139a875d5b6"
      },
      "execution_count": 22,
      "outputs": [
        {
          "output_type": "stream",
          "name": "stdout",
          "text": [
            "MSE: 0.10991479876963783\n",
            "MAE: 0.21828222151566537\n",
            "RMSE: 0.33153400846615694\n",
            "MAPE: 0.001288993848071947\n"
          ]
        }
      ]
    },
    {
      "cell_type": "code",
      "source": [
        "train = data[:training_data_len]\n",
        "valid = data[training_data_len - 1:]\n",
        "train_gr = np.reshape(train, (len(train),))\n",
        "train_gr = train_gr['Close']\n",
        "valid_gr = np.reshape(valid, (len(valid),))\n",
        "valid_gr = valid_gr['Close']\n",
        "preds_gr = np.reshape(predictions, (len(predictions),))\n",
        "\n",
        "x_train = list(range(0, len(train_data)+1))\n",
        "x_valid = list(range(len(train_data), len(dataset)))\n",
        "fig = go.Figure()\n",
        "fig.add_trace(go.Scatter(x=x_train, y=train_gr, mode='lines+markers', marker=dict(size=4),  name='train', marker_color='#39304A'))\n",
        "fig.add_trace(go.Scatter(x=x_valid, y=valid_gr, mode='lines+markers', marker=dict(size=4), name='valid', marker_color='blue'))\n",
        "fig.add_trace(go.Scatter(x=x_valid, y=preds_gr, mode='lines+markers', marker=dict(size=4), name='predictions', marker_color='red'))\n",
        "fig.update_layout(legend_orientation=\"h\",\n",
        "                  legend=dict(x=.5, xanchor=\"center\"),\n",
        "                  plot_bgcolor='#FFFFFF',  \n",
        "                  xaxis=dict(gridcolor = 'lightgrey'),\n",
        "                  yaxis=dict(gridcolor = 'lightgrey'),    \n",
        "                  title_text = 'TSLA цены на акции', title_x = 0.5,\n",
        "                  xaxis_title=\"Дата\",\n",
        "                  yaxis_title=\"Цены на акции\",\n",
        "                  margin=dict(l=0, r=0, t=30, b=0))\n",
        "fig.show()"
      ],
      "metadata": {
        "colab": {
          "base_uri": "https://localhost:8080/",
          "height": 542
        },
        "id": "zRhGH1TG9cPK",
        "outputId": "af803536-dbf5-4eb4-e2f2-689528e155d3"
      },
      "execution_count": 23,
      "outputs": [
        {
          "output_type": "display_data",
          "data": {
            "text/html": [
              "<html>\n",
              "<head><meta charset=\"utf-8\" /></head>\n",
              "<body>\n",
              "    <div>            <script src=\"https://cdnjs.cloudflare.com/ajax/libs/mathjax/2.7.5/MathJax.js?config=TeX-AMS-MML_SVG\"></script><script type=\"text/javascript\">if (window.MathJax && window.MathJax.Hub && window.MathJax.Hub.Config) {window.MathJax.Hub.Config({SVG: {font: \"STIX-Web\"}});}</script>                <script type=\"text/javascript\">window.PlotlyConfig = {MathJaxConfig: 'local'};</script>\n",
              "        <script src=\"https://cdn.plot.ly/plotly-2.18.2.min.js\"></script>                <div id=\"aca749e2-885f-4b4b-82ec-67cb9b38f817\" class=\"plotly-graph-div\" style=\"height:525px; width:100%;\"></div>            <script type=\"text/javascript\">                                    window.PLOTLYENV=window.PLOTLYENV || {};                                    if (document.getElementById(\"aca749e2-885f-4b4b-82ec-67cb9b38f817\")) {                    Plotly.newPlot(                        \"aca749e2-885f-4b4b-82ec-67cb9b38f817\",                        [{\"marker\":{\"color\":\"#39304A\",\"size\":4},\"mode\":\"lines+markers\",\"name\":\"train\",\"x\":[0,1,2,3,4,5,6,7,8,9,10,11,12,13,14,15,16,17,18,19,20,21,22,23,24,25,26,27,28,29,30,31,32,33,34,35,36,37,38,39,40,41,42,43,44,45,46,47,48,49,50,51,52,53,54,55,56,57,58,59,60,61,62,63,64,65,66,67,68,69,70,71,72,73,74,75,76,77,78,79,80,81,82,83,84,85,86,87,88,89,90,91,92,93,94,95,96,97,98,99,100,101,102,103,104,105,106,107,108,109,110,111,112,113,114,115,116,117,118,119,120,121,122,123,124,125,126,127,128,129,130,131,132,133,134,135,136,137,138,139,140,141,142,143,144,145,146,147,148,149,150,151,152,153,154,155,156,157,158,159,160,161,162,163,164,165,166,167,168,169,170,171,172,173,174,175,176,177,178,179,180,181,182,183,184,185,186,187,188,189,190,191,192,193,194,195,196,197,198,199,200,201,202,203,204,205,206,207,208,209,210,211,212,213,214,215,216,217,218,219,220,221,222,223,224,225,226,227,228,229,230,231,232,233,234,235,236,237,238,239,240,241,242,243,244,245,246,247,248,249,250,251,252,253,254,255,256,257,258,259,260,261,262,263,264,265,266,267,268,269,270,271,272,273,274,275,276,277,278,279,280,281,282,283,284,285,286,287,288,289,290,291,292,293,294,295,296,297,298,299,300,301,302,303,304,305,306,307,308,309,310,311,312,313,314,315,316,317,318,319,320,321,322,323,324,325,326,327,328,329,330,331,332,333,334,335,336,337,338,339,340,341,342,343,344,345,346,347,348,349,350,351,352,353,354,355,356,357,358,359,360,361,362,363,364,365,366,367,368,369,370,371,372,373,374,375,376,377,378,379,380,381,382,383,384,385,386,387,388,389,390,391,392,393,394,395,396,397,398,399,400,401,402,403,404,405,406,407,408,409,410,411,412,413,414,415,416,417,418,419,420,421,422,423,424,425,426,427,428,429,430,431,432,433,434,435,436,437,438,439,440,441,442,443,444,445,446,447,448,449,450,451,452,453,454,455,456,457,458,459,460,461,462,463,464,465,466,467,468,469,470,471,472,473,474,475,476,477,478,479,480,481,482,483,484,485,486,487,488,489,490,491,492,493,494,495,496,497,498,499,500,501,502,503,504,505,506,507,508,509,510,511,512,513,514,515,516,517,518,519,520,521,522,523,524,525,526,527,528,529,530,531,532,533,534,535,536,537,538,539,540,541,542,543,544,545,546,547,548,549,550,551,552,553,554,555,556,557,558,559,560,561,562,563,564,565,566,567,568,569,570,571,572,573,574,575,576,577,578,579,580,581,582,583,584,585,586,587,588,589,590,591,592,593,594,595,596,597,598,599,600,601,602,603,604,605,606,607,608,609,610,611,612,613,614,615,616,617,618,619,620,621,622,623,624,625,626,627,628,629,630,631,632,633,634,635,636,637,638,639,640,641,642,643,644,645,646,647,648,649,650,651,652,653,654,655,656,657,658,659,660,661,662,663,664,665,666,667,668,669,670,671,672,673,674,675,676,677,678,679,680,681,682,683,684,685,686,687,688,689,690,691,692,693,694,695,696,697,698,699,700,701,702,703,704,705,706,707,708,709,710,711,712,713,714,715,716,717,718,719,720,721,722,723,724,725,726,727,728,729,730,731,732,733,734,735,736,737,738,739,740,741,742,743,744,745,746,747,748,749,750,751,752,753,754,755,756,757,758,759,760,761,762,763,764,765,766,767,768,769,770,771,772,773,774,775,776,777,778,779,780,781,782,783,784,785,786,787,788,789,790,791,792,793,794,795,796,797,798,799,800,801,802,803,804,805,806,807,808,809,810,811,812,813,814,815,816,817,818,819,820,821,822,823,824,825,826,827,828,829,830,831,832,833,834,835,836,837,838,839,840,841,842,843,844,845,846,847,848,849,850,851,852,853,854,855,856,857,858,859,860,861,862,863,864,865,866,867,868,869,870,871,872,873,874,875,876,877,878,879,880,881,882,883,884,885,886,887,888,889,890,891,892,893,894,895,896,897,898,899,900,901,902,903,904,905,906,907,908,909,910,911,912,913,914,915,916,917,918,919,920,921,922,923,924,925,926,927,928,929,930,931,932,933,934,935,936,937,938,939,940,941,942,943,944,945,946,947,948,949,950,951,952,953,954,955,956,957,958,959,960,961,962,963,964,965,966,967,968,969,970,971,972,973,974,975,976,977,978,979,980,981,982,983,984,985,986,987,988,989,990,991,992,993,994,995,996,997,998,999,1000,1001,1002,1003,1004,1005,1006,1007,1008,1009,1010,1011,1012,1013,1014,1015,1016,1017,1018,1019,1020,1021,1022,1023,1024,1025,1026,1027,1028,1029,1030,1031,1032,1033,1034,1035,1036,1037,1038,1039,1040,1041,1042,1043,1044,1045,1046,1047,1048,1049,1050,1051,1052,1053,1054,1055,1056,1057,1058,1059,1060,1061,1062,1063,1064,1065,1066,1067,1068,1069,1070,1071,1072,1073,1074,1075,1076,1077,1078,1079,1080,1081,1082,1083,1084,1085,1086,1087,1088,1089,1090,1091,1092,1093,1094,1095,1096,1097,1098,1099,1100,1101,1102,1103,1104,1105,1106,1107,1108,1109,1110,1111,1112,1113,1114,1115,1116,1117,1118,1119,1120,1121,1122,1123,1124,1125,1126,1127,1128,1129,1130,1131,1132,1133,1134,1135,1136,1137,1138,1139,1140,1141,1142,1143,1144,1145,1146,1147,1148,1149,1150,1151,1152,1153,1154,1155,1156,1157,1158,1159,1160,1161,1162,1163,1164,1165,1166,1167,1168,1169,1170,1171,1172,1173,1174,1175,1176,1177,1178,1179,1180,1181,1182,1183,1184,1185,1186,1187,1188,1189,1190,1191,1192,1193,1194,1195,1196,1197,1198,1199,1200,1201,1202,1203,1204,1205,1206,1207,1208,1209,1210,1211,1212,1213,1214,1215,1216,1217,1218,1219,1220,1221,1222,1223,1224,1225,1226,1227,1228,1229,1230,1231,1232,1233,1234,1235,1236,1237,1238,1239,1240,1241,1242,1243,1244,1245,1246,1247,1248,1249,1250,1251,1252,1253,1254,1255,1256,1257,1258,1259,1260,1261,1262,1263,1264,1265,1266,1267,1268,1269,1270,1271,1272,1273,1274,1275,1276,1277,1278,1279,1280,1281,1282,1283,1284,1285,1286,1287,1288,1289,1290,1291,1292,1293,1294,1295,1296,1297,1298,1299,1300,1301,1302,1303,1304,1305,1306,1307,1308,1309,1310,1311,1312,1313,1314,1315,1316,1317,1318,1319,1320,1321,1322,1323,1324,1325,1326,1327,1328,1329,1330,1331,1332,1333,1334,1335,1336,1337,1338,1339,1340,1341,1342,1343,1344,1345,1346,1347,1348,1349,1350,1351,1352,1353,1354,1355,1356,1357,1358,1359,1360,1361,1362,1363,1364,1365,1366,1367,1368,1369,1370,1371,1372,1373,1374,1375,1376,1377,1378,1379,1380,1381,1382,1383,1384,1385,1386,1387,1388,1389,1390,1391,1392,1393,1394,1395,1396,1397,1398,1399,1400,1401,1402,1403,1404,1405,1406,1407,1408,1409,1410,1411,1412,1413,1414,1415,1416,1417,1418,1419,1420,1421,1422,1423,1424,1425,1426,1427,1428,1429,1430,1431,1432,1433,1434,1435,1436,1437,1438,1439,1440,1441,1442,1443,1444,1445,1446,1447,1448,1449,1450,1451,1452,1453,1454,1455,1456,1457,1458,1459,1460,1461,1462,1463,1464,1465,1466,1467,1468,1469,1470,1471,1472,1473,1474,1475,1476,1477,1478,1479,1480,1481,1482,1483,1484,1485,1486,1487,1488,1489,1490,1491,1492,1493,1494,1495,1496,1497,1498,1499,1500,1501,1502,1503,1504,1505,1506,1507,1508,1509,1510,1511,1512,1513,1514,1515,1516,1517,1518,1519,1520,1521,1522,1523,1524,1525,1526,1527,1528,1529,1530,1531,1532,1533,1534,1535,1536,1537,1538,1539,1540,1541,1542,1543,1544,1545,1546,1547,1548,1549,1550,1551,1552],\"y\":[164.26499938964844,164.05499267578125,164.32000732421875,164.02000427246094,164.86990356445312,165.00599670410156,165.1999969482422,165.5,165.1999969482422,165.50169372558594,165.47999572753906,166.0800018310547,166.2100067138672,166.3800048828125,166.55999755859375,166.32569885253906,166.4696044921875,166.47000122070312,166.2949981689453,166.36000061035156,166.0601043701172,166.3350067138672,166.4199981689453,166.2100067138672,166.19000244140625,166.48829650878906,167.05999755859375,166.69940185546875,166.3000030517578,166.3800048828125,166.56790161132812,166.69500732421875,166.60440063476562,166.86000061035156,166.3300018310547,166.6300048828125,166.78480529785156,166.59519958496094,166.4499969482422,166.3699951171875,166.39999389648438,166.34500122070312,166.6300048828125,166.6490020751953,166.61000061035156,166.7008056640625,166.6699981689453,166.777099609375,166.7126007080078,166.52090454101562,166.68499755859375,166.7100067138672,166.77999877929688,166.64999389648438,166.75929260253906,166.5500030517578,166.67999267578125,166.69500732421875,167.110107421875,166.8699951171875,167.375,167.20889282226562,167.51499938964844,167.64999389648438,167.6199951171875,167.5500030517578,167.94000244140625,167.9694061279297,168.02499389648438,168.09539794921875,168.19850158691406,167.95950317382812,167.7176055908203,167.72999572753906,168.06809997558594,168.0200958251953,167.8990020751953,168.00079345703125,167.6999969482422,167.7991943359375,167.7899932861328,168.0030059814453,167.91000366210938,168.0,168.0500030517578,167.89999389648438,167.8800048828125,167.81100463867188,167.91000366210938,167.89999389648438,167.9700927734375,168.35000610351562,168.7938995361328,168.81069946289062,168.7449951171875,168.88980102539062,168.93060302734375,168.77000427246094,168.75970458984375,168.639892578125,168.63999938964844,168.64990234375,168.69000244140625,168.60189819335938,168.63189697265625,168.49000549316406,168.30999755859375,168.25,168.0800018310547,168.36000061035156,168.4600067138672,168.30999755859375,168.36000061035156,168.35009765625,168.35000610351562,168.4196014404297,168.58999633789062,168.6199951171875,168.57249450683594,168.36000061035156,168.21009826660156,168.2899932861328,168.42999267578125,168.6300048828125,168.47869873046875,168.48939514160156,168.4488067626953,168.4499969482422,168.331298828125,168.22999572753906,167.87750244140625,167.9499969482422,168.07000732421875,168.1490020751953,168.12010192871094,168.18089294433594,168.27999877929688,168.11000061035156,168.16000366210938,168.27000427246094,168.1999053955078,168.23500061035156,168.25999450683594,168.1750030517578,168.41290283203125,168.32229614257812,168.33999633789062,168.3291015625,168.37989807128906,168.69000244140625,168.5500030517578,168.44000244140625,168.42999267578125,168.4199981689453,168.1614990234375,168.08990478515625,168.07000732421875,168.00010681152344,168.14199829101562,168.07000732421875,168.10000610351562,167.9561004638672,167.77000427246094,167.72000122070312,167.82139587402344,167.88499450683594,167.8699951171875,167.87289428710938,167.7100067138672,167.89990234375,168.04379272460938,168.13999938964844,168.02999877929688,167.94549560546875,167.90499877929688,167.64999389648438,168.03770446777344,168.1300048828125,168.12539672851562,168.1199951171875,168.11880493164062,167.97999572753906,168.07000732421875,167.91009521484375,167.85000610351562,167.8000030517578,167.88999938964844,167.9886016845703,168.07000732421875,168.1811981201172,168.16140747070312,168.25169372558594,168.1999969482422,168.25,168.2100067138672,167.97999572753906,167.88999938964844,167.97000122070312,167.97000122070312,168.0323944091797,168.10000610351562,168.07789611816406,168.02499389648438,167.94000244140625,168.05999755859375,168.13999938964844,168.31089782714844,168.2899932861328,168.76499938964844,168.70849609375,168.6999969482422,168.6717987060547,168.6699981689453,168.64999389648438,168.7050018310547,168.831298828125,168.72999572753906,168.77000427246094,168.9499969482422,168.947998046875,168.92860412597656,168.92999267578125,168.99000549316406,168.9416961669922,168.97999572753906,168.92999267578125,169.0399932861328,169.22999572753906,169.21929931640625,169.18930053710938,169.3321075439453,169.34010314941406,169.29840087890625,169.28810119628906,169.22000122070312,169.10009765625,169.09779357910156,169.22000122070312,169.41000366210938,169.4499053955078,169.50010681152344,169.66879272460938,169.72999572753906,169.86830139160156,169.88009643554688,169.7095947265625,169.75,169.77099609375,169.74169921875,169.72860717773438,169.78990173339844,169.88999938964844,169.94000244140625,169.75,169.72000122070312,169.75660705566406,169.7393035888672,169.75999450683594,169.72000122070312,169.75999450683594,169.6613006591797,169.77000427246094,169.78419494628906,169.67999267578125,169.69000244140625,169.69000244140625,169.8000030517578,169.97909545898438,170.08999633789062,170.26010131835938,170.25,170.1815948486328,170.2375946044922,170.25999450683594,170.26609802246094,170.22000122070312,170.3350067138672,170.30999755859375,170.3394012451172,170.22000122070312,170.08999633789062,170.10000610351562,170.02999877929688,170.03990173339844,170.0,169.8350067138672,169.9199981689453,170.04159545898438,170.1300048828125,170.0699005126953,170.15040588378906,170.22000122070312,170.09010314941406,170.22999572753906,170.1699981689453,170.02999877929688,170.11990356445312,170.13180541992188,170.1199951171875,170.09669494628906,169.97999572753906,170.0500030517578,170.0803985595703,170.0800018310547,169.86000061035156,169.9199981689453,169.97000122070312,169.97999572753906,169.91000366210938,169.95989990234375,170.00999450683594,169.966796875,169.9906005859375,170.05020141601562,169.9302978515625,169.89999389648438,169.9980010986328,170.02999877929688,170.0449981689453,170.1721954345703,170.28500366210938,170.14999389648438,170.2200927734375,170.32000732421875,170.25999450683594,170.27999877929688,170.1199951171875,170.10499572753906,170.01980590820312,170.05999755859375,170.0749969482422,170.22000122070312,170.22210693359375,170.2707061767578,170.22000122070312,170.16000366210938,170.22000122070312,170.25,170.3000030517578,170.17100524902344,170.16009521484375,170.16990661621094,170.09869384765625,170.27999877929688,170.69500732421875,170.51950073242188,170.49000549316406,170.19839477539062,170.0050048828125,169.9550018310547,169.85000610351562,169.92999267578125,169.99000549316406,169.86000061035156,169.9199981689453,169.9799041748047,170.16000366210938,170.16000366210938,170.14349365234375,170.1999969482422,170.0399932861328,169.90989685058594,169.96499633789062,169.8300018310547,170.07000732421875,170.0500030517578,170.05419921875,170.0740966796875,170.05999755859375,169.97999572753906,169.97999572753906,170.0500030517578,169.97999572753906,169.97000122070312,170.15049743652344,170.03500366210938,169.9600067138672,170.00999450683594,170.02200317382812,170.05999755859375,169.993896484375,170.0050048828125,170.02789306640625,170.04910278320312,169.97909545898438,169.97999572753906,169.99000549316406,170.07000732421875,172.4149932861328,171.32000732421875,172.0399932861328,171.76699829101562,171.04580688476562,171.4199981689453,171.44000244140625,171.39889526367188,171.0301055908203,171.13800048828125,170.7489013671875,171.1300048828125,171.0944061279297,170.9199981689453,170.8300018310547,170.87339782714844,170.6699981689453,170.89999389648438,171.22999572753906,171.11000061035156,171.17999267578125,170.6029052734375,171.0,171.3699951171875,171.07009887695312,171.58999633789062,171.75999450683594,171.87989807128906,172.0,172.10000610351562,172.1352996826172,172.26400756835938,172.19009399414062,172.07000732421875,172.34170532226562,172.41009521484375,172.110107421875,171.77000427246094,171.6779022216797,171.6199951171875,171.72999572753906,171.17999267578125,171.16000366210938,171.14329528808594,171.16990661621094,170.85000610351562,170.84930419921875,170.84959411621094,171.20989990234375,171.19000244140625,171.19000244140625,171.27200317382812,171.44500732421875,171.35499572753906,170.93350219726562,170.72500610351562,170.29989624023438,170.2183074951172,169.8800048828125,169.8300018310547,170.19000244140625,170.4300994873047,170.35000610351562,170.1199951171875,169.8571014404297,169.4600067138672,169.23500061035156,169.3300018310547,169.36000061035156,169.5800018310547,169.68299865722656,169.8199005126953,169.8800048828125,169.8699951171875,169.9600067138672,170.00999450683594,169.9499969482422,170.14999389648438,170.24000549316406,170.44000244140625,170.35049438476562,170.3603057861328,170.39149475097656,170.5500030517578,170.7895050048828,170.74000549316406,170.54100036621094,170.50100708007812,170.45730590820312,170.51849365234375,170.52999877929688,170.49000549316406,170.43179321289062,170.5699005126953,170.55999755859375,170.7698974609375,170.99000549316406,171.02099609375,171.0601043701172,171.26499938964844,171.43020629882812,171.42030334472656,171.22940063476562,171.27000427246094,171.19000244140625,171.25,171.3802947998047,171.3509979248047,171.3289031982422,171.19810485839844,171.1699981689453,171.0399932861328,171.14999389648438,171.32000732421875,170.6999969482422,170.6300048828125,170.66990661621094,170.49200439453125,170.6038055419922,170.38999938964844,170.44000244140625,170.72000122070312,170.75999450683594,170.8000030517578,170.81179809570312,170.85000610351562,170.8491973876953,171.10000610351562,171.4600067138672,171.38499450683594,171.5731964111328,171.5998992919922,171.7100067138672,171.6300048828125,171.67160034179688,171.69000244140625,171.63999938964844,171.7100067138672,171.75990295410156,171.69009399414062,171.73300170898438,171.75990295410156,171.8300018310547,171.72999572753906,171.92999267578125,171.960205078125,172.08999633789062,172.07000732421875,172.0081024169922,171.96499633789062,171.91000366210938,171.67999267578125,171.77000427246094,171.9149932861328,171.9199981689453,171.8000030517578,171.8115997314453,171.6199951171875,171.7386932373047,171.6999969482422,171.65499877929688,171.69000244140625,171.76499938964844,171.66009521484375,171.93499755859375,171.91000366210938,171.97999572753906,171.92999267578125,172.07000732421875,171.95799255371094,171.80999755859375,171.89999389648438,171.93960571289062,171.8000946044922,171.73989868164062,171.71009826660156,171.731201171875,171.85499572753906,171.64039611816406,171.43040466308594,171.48590087890625,171.2624053955078,171.44000244140625,171.47779846191406,171.49000549316406,171.55690002441406,171.52999877929688,171.4801025390625,171.63999938964844,171.68850708007812,171.8927001953125,171.94639587402344,171.8199005126953,171.841796875,171.73989868164062,171.67999267578125,171.74000549316406,171.89999389648438,171.8800048828125,171.90969848632812,171.89999389648438,171.97999572753906,171.89999389648438,171.9600067138672,171.9499969482422,171.8842010498047,172.02999877929688,172.17999267578125,172.1300048828125,171.99989318847656,172.02999877929688,171.67999267578125,171.39999389648438,171.4517059326172,171.4499969482422,171.50999450683594,171.5,171.4600067138672,171.5299072265625,171.60000610351562,171.7906951904297,171.7899932861328,171.914306640625,171.8800048828125,171.8699951171875,171.92860412597656,172.10000610351562,172.04139709472656,172.04319763183594,172.08999633789062,172.09500122070312,172.11000061035156,172.1300048828125,172.2220001220703,172.25999450683594,172.11000061035156,172.20950317382812,172.28500366210938,172.36000061035156,172.37930297851562,172.29879760742188,172.11920166015625,172.07000732421875,172.18080139160156,172.22189331054688,172.16000366210938,172.17999267578125,172.04989624023438,171.84010314941406,171.87179565429688,171.77999877929688,171.75180053710938,171.86000061035156,171.85989379882812,171.8253936767578,171.9365997314453,171.68150329589844,171.6811981201172,171.75,171.75999450683594,171.63499450683594,171.63499450683594,171.60499572753906,171.6300048828125,171.4801025390625,171.62939453125,171.5316925048828,171.5749969482422,171.656494140625,171.64999389648438,171.3242950439453,171.08160400390625,170.9499969482422,170.74000549316406,170.22000122070312,170.32000732421875,170.33009338378906,170.38999938964844,170.69259643554688,170.66000366210938,170.75010681152344,170.77999877929688,170.85000610351562,170.97999572753906,170.96119689941406,170.97000122070312,170.97039794921875,171.02999877929688,171.03909301757812,170.9799041748047,170.89999389648438,170.92999267578125,170.88369750976562,170.8621063232422,170.9842071533203,170.97000122070312,171.06570434570312,171.1699981689453,171.0800018310547,171.22000122070312,171.22000122070312,171.2299041748047,171.19000244140625,171.1199951171875,171.10830688476562,171.1999969482422,171.24000549316406,171.22500610351562,171.35479736328125,171.4114990234375,171.4293975830078,171.39999389648438,171.2899932861328,171.40989685058594,171.4499969482422,171.4499053955078,171.47999572753906,171.57000732421875,171.64999389648438,171.5386962890625,171.47000122070312,171.46839904785156,171.49949645996094,171.60000610351562,171.60000610351562,171.65499877929688,171.71499633789062,171.84820556640625,171.64649963378906,171.75010681152344,171.68069458007812,171.69000244140625,171.64999389648438,171.72999572753906,171.67999267578125,171.7899932861328,171.60000610351562,171.67999267578125,171.53750610351562,171.42080688476562,171.4499969482422,171.22000122070312,171.2899932861328,171.06179809570312,171.17999267578125,171.47000122070312,171.55990600585938,171.57000732421875,171.6750030517578,171.6501007080078,171.7100067138672,171.73190307617188,171.69000244140625,171.54800415039062,171.5500030517578,171.38999938964844,171.45790100097656,171.47999572753906,171.44000244140625,171.42999267578125,171.42999267578125,171.5800018310547,171.61199951171875,171.49639892578125,171.5500030517578,171.54159545898438,171.55999755859375,171.60000610351562,171.55819702148438,171.5500030517578,171.61500549316406,171.62010192871094,171.76499938964844,171.7646942138672,171.72000122070312,171.80999755859375,171.75999450683594,171.58999633789062,171.7899932861328,171.72149658203125,171.8300018310547,171.91009521484375,171.8300018310547,171.7698974609375,171.82000732421875,171.7899932861328,171.85000610351562,168.51559448242188,169.3300018310547,169.52999877929688,169.63999938964844,169.10989379882812,169.20010375976562,169.22999572753906,168.93760681152344,168.7480010986328,168.9949951171875,168.66000366210938,168.6284942626953,168.9199981689453,169.14500427246094,168.80999755859375,168.53990173339844,168.80499267578125,168.85009765625,168.860107421875,168.7799072265625,168.8000030517578,168.87289428710938,168.81500244140625,168.94000244140625,168.92999267578125,168.8800048828125,168.79539489746094,168.6999969482422,169.4499969482422,169.27000427246094,169.1663055419922,169.2010040283203,169.38079833984375,169.07000732421875,169.16990661621094,168.90150451660156,168.6999969482422,168.66000366210938,168.75149536132812,168.6999969482422,168.50010681152344,168.0299072265625,168.10000610351562,168.19000244140625,168.21139526367188,168.1699981689453,168.2899932861328,168.32000732421875,168.2548065185547,168.42990112304688,168.52830505371094,168.5386962890625,168.52000427246094,168.5,168.57000732421875,168.45010375976562,168.5290069580078,168.25599670410156,168.2100067138672,168.05999755859375,168.0850067138672,168.13999938964844,168.05479431152344,167.8592987060547,167.92999267578125,168.08999633789062,168.0272979736328,167.9149932861328,167.94000244140625,168.22219848632812,168.2801055908203,168.27999877929688,168.2949981689453,168.32000732421875,168.58999633789062,168.6999969482422,168.6199951171875,168.58999633789062,168.5,168.17999267578125,168.12890625,168.07119750976562,167.97979736328125,168.07000732421875,168.13839721679688,168.26800537109375,168.24000549316406,168.12989807128906,168.24000549316406,168.15989685058594,168.03810119628906,168.0500946044922,168.0507049560547,167.9600067138672,167.91070556640625,167.5399932861328,167.54200744628906,167.44000244140625,167.43179321289062,167.41009521484375,167.35009765625,167.10899353027344,167.360107421875,167.33999633789062,167.3800048828125,167.53269958496094,167.6094970703125,167.63150024414062,167.5791015625,167.60389709472656,167.75,167.62399291992188,167.5800018310547,167.64999389648438,167.5500946044922,167.4824981689453,167.50010681152344,167.50999450683594,167.4893035888672,167.37049865722656,167.36000061035156,167.4499969482422,167.4199981689453,167.3800048828125,167.32000732421875,167.22000122070312,167.1199951171875,167.279296875,167.41000366210938,167.48719787597656,167.39010620117188,167.44000244140625,167.47860717773438,167.33999633789062,167.40989685058594,167.2595977783203,167.32000732421875,167.27000427246094,167.45350646972656,167.27999877929688,167.11000061035156,167.07000732421875,167.0399932861328,166.89999389648438,166.9199981689453,166.82080078125,166.85780334472656,166.82000732421875,166.875,166.8896026611328,166.9700927734375,166.9799041748047,166.97000122070312,166.9250030517578,167.02000427246094,167.07879638671875,167.02999877929688,166.97000122070312,166.9678955078125,166.9799041748047,167.02999877929688,166.83999633789062,166.99000549316406,167.10000610351562,167.0679931640625,167.0800018310547,167.07000732421875,166.95919799804688,166.875,166.9080047607422,166.96009826660156,166.86000061035156,166.99000549316406,166.92999267578125,166.875,166.8249053955078,166.8612060546875,166.8699951171875,166.64309692382812,166.7100067138672,166.889892578125,166.97000122070312,167.08560180664062,167.1999969482422,167.36500549316406,167.37989807128906,167.381103515625,167.27000427246094,167.3300018310547,167.27999877929688,167.33999633789062,167.3249969482422,167.44000244140625,167.4199981689453,167.47000122070312,167.27000427246094,167.23500061035156,167.2593994140625,167.22000122070312,167.15809631347656,167.10079956054688,167.24070739746094,167.25,167.27999877929688,167.3498992919922,167.43910217285156,167.44000244140625,167.5,167.6300048828125,167.63999938964844,167.52000427246094,167.6699981689453,167.5800018310547,167.60000610351562,167.52999877929688,167.63909912109375,167.7299041748047,167.6898956298828,167.5010986328125,167.4600067138672,167.6903076171875,167.61900329589844,167.52999877929688,167.57000732421875,167.57000732421875,167.54849243164062,167.59500122070312,167.5800018310547,167.69000244140625,167.6999969482422,167.6999969482422,167.66799926757812,167.63009643554688,167.61000061035156,167.56350708007812,167.61000061035156,167.58999633789062,167.5782012939453,167.52999877929688,167.66000366210938,167.5800018310547,167.50689697265625,167.63999938964844,167.64500427246094,167.61090087890625,167.552001953125,167.5449981689453,167.36000061035156,167.49000549316406,167.47999572753906,167.4398956298828,167.44000244140625,167.44000244140625,167.30499267578125,167.3800048828125,167.45989990234375,167.47999572753906,167.52000427246094,167.5399932861328,167.4499969482422,167.5,167.62939453125,167.64500427246094,167.75990295410156,167.8350067138672,167.85000610351562,167.82000732421875,167.85499572753906,167.92930603027344,167.94180297851562,167.91099548339844,167.9199981689453,168.03500366210938,168.03500366210938,168.22999572753906,168.27499389648438,168.2899932861328,168.25790405273438,168.375,168.33999633789062,168.3302001953125,168.36000061035156,168.27999877929688,168.1999053955078,168.26890563964844,168.2624969482422,168.31170654296875,168.23890686035156,168.13999938964844,168.2801055908203,168.2449951171875,168.35000610351562,168.32000732421875,168.2353973388672,168.23500061035156,168.2301025390625,168.18089294433594,168.2801055908203,168.19920349121094,168.3000030517578,168.43499755859375,168.35989379882812,168.38070678710938,168.32009887695312,168.36000061035156,168.36000061035156,168.45530700683594,168.4398956298828,168.5800018310547,168.5800018310547,168.5800018310547,168.52499389648438,168.4550018310547,168.48500061035156,168.44200134277344,168.50999450683594,168.50999450683594,168.50079345703125,168.5,168.3896942138672,168.4199981689453,168.3350067138672,168.05999755859375,167.9700927734375,168.08999633789062,168.02999877929688,168.08999633789062,168.09959411621094,168.00929260253906,168.0399932861328,168.08999633789062,168.17999267578125,168.27999877929688,168.360107421875,168.36000061035156,168.36000061035156,168.47000122070312,168.44000244140625,168.4801025390625,168.54010009765625,168.65179443359375,168.55929565429688,168.5074005126953,168.5399932861328,168.4600067138672,168.42990112304688,168.42999267578125,168.44000244140625,168.44000244140625,168.625,168.5200958251953,168.46499633789062,168.47500610351562,168.50990295410156,168.52999877929688,168.47999572753906,168.47999572753906,168.47000122070312,168.47999572753906,168.5117950439453,168.67990112304688,168.6199951171875,168.79139709472656,168.77999877929688,168.88999938964844,168.92999267578125,168.91009521484375,168.92999267578125,168.91000366210938,168.92999267578125,168.8350067138672,168.8000030517578,168.88839721679688,168.91000366210938,168.89500427246094,168.92999267578125,168.96499633789062,169.07000732421875,169.10000610351562,169.05999755859375,169.02000427246094,168.94009399414062,169.0,169.02999877929688,168.99000549316406,168.9199981689453,168.97500610351562,169.16000366210938,172.09579467773438,172.00999450683594,172.4398956298828,173.38499450683594,173.3946990966797,173.14999389648438,172.9700927734375,173.3800048828125,173.1300048828125,172.88009643554688,172.46400451660156,171.5,171.5500030517578,171.8300018310547,172.15249633789062,172.16000366210938,172.3300018310547,172.72999572753906,173.0,172.99000549316406,173.4683074951172,172.91000366210938,172.6699981689453,172.78509521484375,172.82589721679688,173.0500030517578,172.88999938964844,172.7799072265625,172.82000732421875,172.75,172.8800048828125,173.30999755859375,174.0155029296875,174.08999633789062,174.0800018310547,174.18899536132812,174.07000732421875,173.99000549316406,174.0930938720703,174.11000061035156,174.0399932861328,173.99159240722656,173.8699951171875,173.89999389648438,173.75999450683594,173.860107421875,174.1199951171875,173.89999389648438,173.25990295410156,173.02999877929688,173.38949584960938,173.4250030517578,173.2926025390625,173.0800018310547,173.25830078125,173.19000244140625,173.0207977294922,173.24940490722656,173.2299041748047,173.05990600585938,173.45269775390625,173.38999938964844,173.53070068359375,173.27000427246094,173.1999053955078,173.25999450683594,173.0102996826172,172.77999877929688,172.59500122070312,172.35499572753906,172.47999572753906,171.77999877929688,171.74000549316406,171.2205047607422,170.88999938964844,171.05999755859375,170.8502960205078,170.99000549316406,170.89999389648438,170.58999633789062,170.2799072265625,170.3800048828125,170.35009765625,170.0399932861328,169.33880615234375,169.33790588378906,169.24000549316406,169.2198944091797,169.39999389648438,169.7100067138672,169.5399932861328,169.55999755859375,169.7100067138672,169.7100067138672,169.77999877929688,169.41000366210938,169.72999572753906,170.0625,170.0800018310547,169.77999877929688,169.5500030517578,169.44500732421875,169.1407928466797,168.6999969482422,169.13999938964844,169.1199951171875,168.93539428710938,169.05999755859375,169.0800018310547,169.3986053466797,169.55999755859375,169.41000366210938,169.3699951171875,169.45640563964844,169.3000030517578,169.14939880371094,169.31900024414062,169.41000366210938,169.41160583496094,169.5,169.54949951171875,169.6121063232422,169.6230926513672,169.52999877929688,169.3800048828125,169.2563934326172,169.47999572753906,169.63999938964844,169.6199951171875,169.58560180664062,169.67970275878906,169.77000427246094,169.8199005126953,169.4208984375,169.44000244140625,169.36000061035156,169.47000122070312,169.4501953125,169.46499633789062,169.52999877929688,169.20989990234375,168.92799377441406,168.8699951171875,168.95010375976562,168.89999389648438,168.77999877929688,168.97000122070312,168.92359924316406,168.8699951171875,168.6300048828125,168.0399932861328,168.08999633789062,168.09840393066406,168.1999053955078,168.1300048828125,168.11000061035156,167.92999267578125,168.1842041015625,168.1300048828125,168.1300048828125,168.247802734375,168.3350067138672,168.4550018310547,168.42999267578125,168.38999938964844,168.43060302734375,168.3498992919922,168.43150329589844,168.49000549316406,168.11000061035156,168.33279418945312,168.44009399414062,168.5019989013672,168.62100219726562,168.5500030517578,168.35000610351562,168.52999877929688,168.7198944091797,168.9600067138672,168.75,168.7100067138672,168.77000427246094,168.8000030517578,168.78500366210938,168.62350463867188,168.85000610351562,168.99000549316406,169.07940673828125,169.2991943359375,169.24000549316406,169.139892578125,169.19000244140625,169.2519989013672,169.3800048828125,169.2100067138672,169.26400756835938,169.19000244140625,169.04989624023438,169.3000030517578,169.14999389648438,169.10989379882812,169.25,169.2899932861328,169.28089904785156,169.21009826660156,169.1154022216797,168.7218017578125,168.6800994873047,168.3000030517578,168.2053985595703,168.27000427246094,168.39999389648438,168.4199981689453,168.54550170898438,168.5449981689453,168.61000061035156,168.5800018310547,168.54559326171875,168.50999450683594,168.35000610351562,168.2899932861328,168.33999633789062,168.25999450683594,168.11000061035156,167.9113006591797,167.72999572753906,168.0399932861328,167.9499969482422,167.77499389648438,167.85499572753906,168.02000427246094,167.92349243164062,167.6999969482422,167.6199951171875,167.52999877929688,167.468994140625,167.44500732421875,167.42999267578125,167.23060607910156,167.351806640625,167.3800048828125,167.2100067138672,167.30999755859375,167.44000244140625,167.36129760742188,167.05499267578125,167.00399780273438,166.85000610351562,166.9051971435547,166.9199981689453,166.8813934326172,166.97000122070312,167.1605987548828,167.13499450683594,167.3300018310547,167.41000366210938,167.52000427246094,167.5800018310547,167.47000122070312,167.42999267578125,167.3699951171875,167.5500030517578,167.61000061035156,167.61000061035156,167.75030517578125,167.77999877929688,167.77000427246094,167.69140625,167.78990173339844,167.86000061035156,167.8300018310547,167.80880737304688,167.8000030517578,167.85000610351562,167.75999450683594,167.83090209960938,167.77999877929688,168.10000610351562,168.22999572753906,168.3249969482422,168.3000946044922,168.3699951171875,168.3300018310547,168.47450256347656,168.33999633789062,168.2899932861328,168.42999267578125,168.41009521484375,168.32260131835938,168.20010375976562,168.3000030517578,168.17999267578125,168.23500061035156,168.13079833984375,168.2899932861328,168.27999877929688,168.42999267578125,168.28759765625,168.47000122070312,168.4219970703125,168.4600067138672,168.41000366210938,168.4398956298828,168.52999877929688,168.72999572753906,168.62130737304688,168.5500030517578,168.72999572753906,168.6999969482422,168.69290161132812,168.84500122070312,168.75999450683594,168.7310028076172,168.67010498046875,168.55999755859375,168.44000244140625,168.26910400390625,168.30999755859375,168.31939697265625,168.33999633789062,168.47999572753906,168.4799041748047,168.44000244140625,168.7449951171875,168.82000732421875,168.7595977783203,168.82000732421875,168.85940551757812,168.6999053955078,168.7100067138672,168.77000427246094,168.8701934814453,168.9398956298828,169.06719970703125,169.23989868164062,169.40989685058594,169.25970458984375,169.17999267578125,169.3000030517578,169.23519897460938,169.29539489746094,169.16990661621094,169.10000610351562,169.1699981689453,169.3000030517578,169.22000122070312,169.24879455566406,169.37010192871094,169.4550018310547,169.56500244140625,169.41990661621094,169.3699951171875,169.4398956298828,169.4058074951172,169.38470458984375,169.3218994140625,169.33909606933594,169.1300048828125,169.05990600585938,169.08999633789062,169.27000427246094,169.3000030517578,169.3184051513672,169.19129943847656,169.39999389648438,169.21499633789062,169.08999633789062,169.15130615234375,169.3300018310547,169.24989318847656,169.32000732421875,169.49000549316406,169.3800048828125,169.25070190429688,169.14999389648438,169.07000732421875,169.08999633789062,169.0749969482422,168.80999755859375,168.47999572753906,168.54600524902344,168.56089782714844,168.70700073242188,168.5196075439453,168.47000122070312,168.5500030517578,168.52000427246094,168.5500030517578,167.9149932861328],\"type\":\"scatter\"},{\"marker\":{\"color\":\"blue\",\"size\":4},\"mode\":\"lines+markers\",\"name\":\"valid\",\"x\":[1552,1553,1554,1555,1556,1557,1558,1559,1560,1561,1562,1563,1564,1565,1566,1567,1568,1569,1570,1571,1572,1573,1574,1575,1576,1577,1578,1579,1580,1581,1582,1583,1584,1585,1586,1587,1588,1589,1590,1591,1592,1593,1594,1595,1596,1597,1598,1599,1600,1601,1602,1603,1604,1605,1606,1607,1608,1609,1610,1611,1612,1613,1614,1615,1616,1617,1618,1619,1620,1621,1622,1623,1624,1625,1626,1627,1628,1629,1630,1631,1632,1633,1634,1635,1636,1637,1638,1639,1640,1641,1642,1643,1644,1645,1646,1647,1648,1649,1650,1651,1652,1653,1654,1655,1656,1657,1658,1659,1660,1661,1662,1663,1664,1665,1666,1667,1668,1669,1670,1671,1672,1673,1674,1675,1676,1677,1678,1679,1680,1681,1682,1683,1684,1685,1686,1687,1688,1689,1690,1691,1692,1693,1694,1695,1696,1697,1698,1699,1700,1701,1702,1703,1704,1705,1706,1707,1708,1709,1710,1711,1712,1713,1714,1715,1716,1717,1718,1719,1720,1721,1722,1723,1724,1725,1726,1727,1728,1729,1730,1731,1732,1733,1734,1735,1736,1737,1738,1739,1740,1741,1742,1743,1744,1745,1746,1747,1748,1749,1750,1751,1752,1753,1754,1755,1756,1757,1758,1759,1760,1761,1762,1763,1764,1765,1766,1767,1768,1769,1770,1771,1772,1773,1774,1775,1776,1777,1778,1779,1780,1781,1782,1783,1784,1785,1786,1787,1788,1789,1790,1791,1792,1793,1794,1795,1796,1797,1798,1799,1800,1801,1802,1803,1804,1805,1806,1807,1808,1809,1810,1811,1812,1813,1814,1815,1816,1817,1818,1819,1820,1821,1822,1823,1824,1825,1826,1827,1828,1829,1830,1831,1832,1833,1834,1835,1836,1837,1838,1839,1840,1841,1842,1843,1844,1845,1846,1847,1848,1849,1850,1851,1852,1853,1854,1855,1856,1857,1858,1859,1860,1861,1862,1863,1864,1865,1866,1867,1868,1869,1870,1871,1872,1873,1874,1875,1876,1877,1878,1879,1880,1881,1882,1883,1884,1885,1886,1887,1888,1889,1890,1891,1892,1893,1894,1895,1896,1897,1898,1899,1900,1901,1902,1903,1904,1905,1906,1907,1908,1909,1910,1911,1912,1913,1914,1915,1916,1917,1918,1919,1920,1921,1922,1923,1924,1925,1926,1927,1928,1929,1930,1931,1932,1933,1934,1935,1936,1937,1938],\"y\":[167.9149932861328,167.14999389648438,166.88999938964844,167.00999450683594,167.33999633789062,167.63999938964844,167.6374969482422,167.23269653320312,167.64999389648438,168.36000061035156,168.14999389648438,168.25010681152344,168.1199951171875,168.09010314941406,168.2218017578125,167.83079528808594,167.90499877929688,167.6699981689453,167.67999267578125,167.8000946044922,167.60000610351562,167.72000122070312,167.8957061767578,167.97149658203125,167.77999877929688,167.8000030517578,167.8115997314453,167.9199981689453,167.82000732421875,167.74009704589844,168.42999267578125,168.5800018310547,168.19000244140625,168.3300018310547,168.16990661621094,168.71449279785156,168.60000610351562,168.564697265625,168.52000427246094,168.5800018310547,168.66729736328125,168.7509002685547,169.12010192871094,169.17919921875,169.1800994873047,169.4199981689453,169.13009643554688,168.8300018310547,168.83999633789062,168.57159423828125,168.4799041748047,168.40469360351562,168.23739624023438,168.19000244140625,168.25230407714844,168.3699951171875,168.44000244140625,168.3300018310547,168.2010040283203,168.19000244140625,167.60000610351562,167.80560302734375,167.74000549316406,167.6300048828125,167.5998992919922,167.57989501953125,167.68150329589844,167.69000244140625,167.56939697265625,167.67999267578125,167.8300018310547,167.77999877929688,167.97039794921875,167.52000427246094,167.83189392089844,167.88999938964844,168.11000061035156,168.3300018310547,168.41990661621094,168.5399932861328,168.4199981689453,168.30880737304688,168.35000610351562,168.40660095214844,168.7086944580078,168.63999938964844,168.64259338378906,168.8101043701172,168.88999938964844,168.86489868164062,168.9199981689453,168.7899932861328,168.82000732421875,168.8699951171875,168.8800048828125,168.88340759277344,168.9199981689453,168.75,168.60260009765625,168.61000061035156,168.59410095214844,168.25,168.35499572753906,168.36839294433594,168.4499053955078,168.27999877929688,168.35000610351562,168.406494140625,168.52999877929688,168.3885040283203,168.44000244140625,168.72999572753906,168.77020263671875,168.8538055419922,168.86390686035156,168.87669372558594,168.77000427246094,168.9490966796875,169.16009521484375,169.17999267578125,169.32000732421875,169.34840393066406,169.24000549316406,169.14990234375,169.22000122070312,169.19000244140625,169.29539489746094,169.3249969482422,169.20730590820312,169.1199951171875,169.1999969482422,169.2281036376953,169.30990600585938,169.47500610351562,169.4842071533203,169.6699981689453,169.47999572753906,169.4499969482422,169.4001007080078,169.29010009765625,169.3699951171875,169.50999450683594,169.45449829101562,169.50999450683594,169.6999969482422,169.5050048828125,169.50999450683594,169.63999938964844,169.76499938964844,169.84500122070312,169.73980712890625,169.6699981689453,169.40089416503906,169.41009521484375,169.27999877929688,169.1781005859375,169.23500061035156,169.3300018310547,169.2449951171875,169.19000244140625,169.00990295410156,169.0500030517578,168.92999267578125,168.94000244140625,169.10169982910156,169.125,169.08999633789062,169.07000732421875,169.1123046875,169.1945037841797,169.05419921875,169.0399932861328,169.0489959716797,169.02000427246094,169.1199951171875,169.1649932861328,168.7899932861328,168.7393035888672,168.89610290527344,168.85569763183594,168.94000244140625,168.94000244140625,168.8979949951172,168.8614959716797,168.8206024169922,168.83059692382812,169.0749969482422,169.23170471191406,169.0399932861328,169.0198974609375,168.94790649414062,169.13999938964844,169.16029357910156,169.30599975585938,169.3699951171875,169.418701171875,169.4199981689453,169.36000061035156,169.40199279785156,169.36990356445312,169.3000030517578,169.2899932861328,169.3997039794922,169.26499938964844,169.3000030517578,169.31350708007812,169.1800994873047,169.16000366210938,169.22000122070312,169.19009399414062,169.27000427246094,169.08999633789062,169.12570190429688,169.1300048828125,169.24000549316406,169.24000549316406,169.4149932861328,169.60000610351562,169.5500030517578,169.5623016357422,169.60000610351562,169.52000427246094,169.57839965820312,169.51060485839844,169.60049438476562,169.67849731445312,169.61500549316406,169.6199951171875,169.45799255371094,169.4761962890625,169.52999877929688,169.3386993408203,169.02999877929688,169.10000610351562,169.12989807128906,169.13710021972656,169.05499267578125,169.10049438476562,168.97000122070312,168.9499969482422,168.93060302734375,169.08999633789062,169.10499572753906,169.13999938964844,169.08070373535156,169.09109497070312,169.2696075439453,169.3592987060547,169.3000946044922,169.3000030517578,169.13119506835938,169.1501007080078,169.17999267578125,169.13499450683594,168.76499938964844,168.7449951171875,168.87010192871094,168.7899932861328,168.7200927734375,168.85360717773438,169.0399932861328,169.0800018310547,169.07000732421875,169.02999877929688,169.13999938964844,169.13999938964844,169.22500610351562,169.32000732421875,169.25270080566406,169.22999572753906,169.22000122070312,169.3000030517578,169.25,169.14999389648438,169.10470581054688,169.10049438476562,169.0500030517578,169.1999969482422,169.24000549316406,169.1916961669922,169.17999267578125,169.2220001220703,169.25689697265625,169.25,169.27000427246094,169.1826934814453,169.11000061035156,169.2093048095703,169.16009521484375,169.1967010498047,169.22000122070312,169.32090759277344,169.33619689941406,169.30999755859375,169.273193359375,169.3800048828125,169.4600067138672,169.39010620117188,169.4499969482422,169.50999450683594,169.47000122070312,169.51499938964844,169.5198974609375,169.5325927734375,169.593505859375,169.6999969482422,169.7449951171875,169.8350067138672,169.88999938964844,169.86000061035156,169.91000366210938,170.0115966796875,170.08999633789062,170.02850341796875,170.0883026123047,170.0308074951172,170.11819458007812,170.15499877929688,170.0399932861328,169.9199981689453,169.91000366210938,169.9300994873047,169.86000061035156,169.75,169.86349487304688,169.88999938964844,169.88929748535156,169.9510955810547,169.91009521484375,169.9600067138672,169.9199981689453,169.95640563964844,169.9423065185547,169.75,170.0,170.08999633789062,170.2449951171875,170.32550048828125,170.42889404296875,170.30409240722656,170.31570434570312,170.38999938964844,170.39999389648438,170.36819458007812,170.30999755859375,170.1999053955078,170.27999877929688,170.1999969482422,170.18310546875,170.19920349121094,170.23989868164062,170.24000549316406,170.22999572753906,170.15289306640625,170.1699981689453,170.05999755859375,170.1199951171875,169.94000244140625,169.89999389648438,170.0449981689453,169.9199981689453,169.8800048828125,169.7548065185547,169.6479949951172,169.6699981689453,169.6490020751953,169.6898956298828,169.60000610351562,169.50999450683594,169.50999450683594,169.47999572753906,169.46119689941406,171.49000549316406,172.47830200195312,172.85000610351562,172.80999755859375,172.74000549316406,172.9199981689453,172.5749969482422,172.80999755859375,172.55999755859375,172.1999969482422,172.1750030517578,171.89999389648438,172.25010681152344,172.25,171.83999633789062,172.05999755859375],\"type\":\"scatter\"},{\"marker\":{\"color\":\"red\",\"size\":4},\"mode\":\"lines+markers\",\"name\":\"predictions\",\"x\":[1552,1553,1554,1555,1556,1557,1558,1559,1560,1561,1562,1563,1564,1565,1566,1567,1568,1569,1570,1571,1572,1573,1574,1575,1576,1577,1578,1579,1580,1581,1582,1583,1584,1585,1586,1587,1588,1589,1590,1591,1592,1593,1594,1595,1596,1597,1598,1599,1600,1601,1602,1603,1604,1605,1606,1607,1608,1609,1610,1611,1612,1613,1614,1615,1616,1617,1618,1619,1620,1621,1622,1623,1624,1625,1626,1627,1628,1629,1630,1631,1632,1633,1634,1635,1636,1637,1638,1639,1640,1641,1642,1643,1644,1645,1646,1647,1648,1649,1650,1651,1652,1653,1654,1655,1656,1657,1658,1659,1660,1661,1662,1663,1664,1665,1666,1667,1668,1669,1670,1671,1672,1673,1674,1675,1676,1677,1678,1679,1680,1681,1682,1683,1684,1685,1686,1687,1688,1689,1690,1691,1692,1693,1694,1695,1696,1697,1698,1699,1700,1701,1702,1703,1704,1705,1706,1707,1708,1709,1710,1711,1712,1713,1714,1715,1716,1717,1718,1719,1720,1721,1722,1723,1724,1725,1726,1727,1728,1729,1730,1731,1732,1733,1734,1735,1736,1737,1738,1739,1740,1741,1742,1743,1744,1745,1746,1747,1748,1749,1750,1751,1752,1753,1754,1755,1756,1757,1758,1759,1760,1761,1762,1763,1764,1765,1766,1767,1768,1769,1770,1771,1772,1773,1774,1775,1776,1777,1778,1779,1780,1781,1782,1783,1784,1785,1786,1787,1788,1789,1790,1791,1792,1793,1794,1795,1796,1797,1798,1799,1800,1801,1802,1803,1804,1805,1806,1807,1808,1809,1810,1811,1812,1813,1814,1815,1816,1817,1818,1819,1820,1821,1822,1823,1824,1825,1826,1827,1828,1829,1830,1831,1832,1833,1834,1835,1836,1837,1838,1839,1840,1841,1842,1843,1844,1845,1846,1847,1848,1849,1850,1851,1852,1853,1854,1855,1856,1857,1858,1859,1860,1861,1862,1863,1864,1865,1866,1867,1868,1869,1870,1871,1872,1873,1874,1875,1876,1877,1878,1879,1880,1881,1882,1883,1884,1885,1886,1887,1888,1889,1890,1891,1892,1893,1894,1895,1896,1897,1898,1899,1900,1901,1902,1903,1904,1905,1906,1907,1908,1909,1910,1911,1912,1913,1914,1915,1916,1917,1918,1919,1920,1921,1922,1923,1924,1925,1926,1927,1928,1929,1930,1931,1932,1933,1934,1935,1936,1937,1938],\"y\":[168.16268920898438,167.6917266845703,167.31729125976562,167.18692016601562,167.1613006591797,167.2210235595703,167.24261474609375,167.0488739013672,167.03616333007812,167.45787048339844,167.6381072998047,167.64170837402344,167.79576110839844,167.7930450439453,167.82742309570312,167.82159423828125,167.7358856201172,167.68466186523438,167.56912231445312,167.56158447265625,167.5120391845703,167.43655395507812,167.51681518554688,167.58584594726562,167.52272033691406,167.50018310546875,167.54678344726562,167.5677032470703,167.57675170898438,167.5324249267578,167.738525390625,168.0233917236328,167.92945861816406,167.91571044921875,168.0272674560547,168.12548828125,168.2945098876953,168.29330444335938,168.3074493408203,168.33831787109375,168.3887481689453,168.4534912109375,168.64199829101562,168.79786682128906,168.8343505859375,168.97134399414062,169.03228759765625,168.86216735839844,168.8223114013672,168.77198791503906,168.58348083496094,168.4961395263672,168.3769989013672,168.21241760253906,168.16127014160156,168.1717529296875,168.17660522460938,168.1488037109375,168.0713348388672,168.03085327148438,167.83453369140625,167.67343139648438,167.72227478027344,167.57879638671875,167.45944213867188,167.4290313720703,167.39852905273438,167.3780975341797,167.34515380859375,167.33348083496094,167.4249267578125,167.44757080078125,167.49459838867188,167.45651245117188,167.40406799316406,167.55787658691406,167.63470458984375,167.78260803222656,167.93194580078125,168.0353546142578,168.07923889160156,168.0788116455078,168.10707092285156,168.17822265625,168.29515075683594,168.3829345703125,168.3687286376953,168.4539337158203,168.56591796875,168.59332275390625,168.64456176757812,168.67605590820312,168.64598083496094,168.69058227539062,168.72073364257812,168.7185821533203,168.73892211914062,168.70249938964844,168.5880584716797,168.55015563964844,168.53720092773438,168.38131713867188,168.2711181640625,168.30227661132812,168.26319885253906,168.1924591064453,168.15771484375,168.19451904296875,168.2207794189453,168.2179718017578,168.20030212402344,168.33529663085938,168.4420166015625,168.48287963867188,168.5671844482422,168.6209716796875,168.6072235107422,168.66311645507812,168.82870483398438,168.90603637695312,168.97276306152344,169.0796356201172,169.0839385986328,169.0445556640625,169.0863800048828,169.11572265625,169.12379455566406,169.17776489257812,169.1481170654297,169.074951171875,169.0841064453125,169.1188507080078,169.13279724121094,169.21995544433594,169.2874298095703,169.35015869140625,169.38426208496094,169.339111328125,169.35043334960938,169.31536865234375,169.2936248779297,169.36375427246094,169.37767028808594,169.3512725830078,169.45152282714844,169.45889282226562,169.38912963867188,169.47821044921875,169.57496643066406,169.62266540527344,169.64215087890625,169.61842346191406,169.5229949951172,169.44094848632812,169.4028778076172,169.29360961914062,169.2415313720703,169.25772094726562,169.21263122558594,169.13226318359375,169.0648956298828,169.00123596191406,168.9581298828125,168.89657592773438,168.93572998046875,168.9750518798828,168.94189453125,168.92799377441406,168.95541381835938,168.99139404296875,168.97921752929688,168.94053649902344,168.9546661376953,168.9391326904297,168.94415283203125,168.9978790283203,168.88763427734375,168.73385620117188,168.78675842285156,168.79100036621094,168.75186157226562,168.79478454589844,168.77548217773438,168.72410583496094,168.71337890625,168.7105255126953,168.78494262695312,168.91827392578125,168.90232849121094,168.85108947753906,168.86875915527344,168.90687561035156,168.97515869140625,169.03997802734375,169.1273651123047,169.1729278564453,169.21060180664062,169.2245330810547,169.2527618408203,169.27662658691406,169.25238037109375,169.23019409179688,169.2664337158203,169.24700927734375,169.19573974609375,169.22547912597656,169.1776885986328,169.107421875,169.12872314453125,169.12789916992188,169.11380004882812,169.08895874023438,169.03265380859375,169.0438690185547,169.0696258544922,169.09498596191406,169.15235900878906,169.2849578857422,169.33470153808594,169.34725952148438,169.4167938232422,169.4367218017578,169.4375762939453,169.46697998046875,169.4789276123047,169.5308074951172,169.53720092773438,169.51788330078125,169.4845428466797,169.43911743164062,169.45867919921875,169.40672302246094,169.2233123779297,169.137939453125,169.15011596679688,169.08816528320312,169.03123474121094,169.01348876953125,168.96102905273438,168.87783813476562,168.86834716796875,168.90310668945312,168.942138671875,168.94424438476562,168.95004272460938,168.942138671875,169.0122833251953,169.1102294921875,169.1300506591797,169.1332244873047,169.11363220214844,169.06544494628906,169.08975219726562,169.0830841064453,168.93173217773438,168.7904815673828,168.81565856933594,168.77003479003906,168.66879272460938,168.68905639648438,168.77667236328125,168.80711364746094,168.82765197753906,168.85511779785156,168.89915466308594,168.9508056640625,168.99476623535156,169.08160400390625,169.10885620117188,169.0874786376953,169.10302734375,169.14134216308594,169.1499786376953,169.10574340820312,169.06797790527344,169.04852294921875,169.01211547851562,169.0261993408203,169.08688354492188,169.06585693359375,169.0454559326172,169.07437133789062,169.1011199951172,169.10911560058594,169.12979125976562,169.1187744140625,169.06451416015625,169.07566833496094,169.09283447265625,169.06886291503906,169.09054565429688,169.13214111328125,169.1621551513672,169.16433715820312,169.16500854492188,169.20054626464844,169.2706756591797,169.27587890625,169.28636169433594,169.3500213623047,169.35858154296875,169.36216735839844,169.40660095214844,169.41912841796875,169.4429931640625,169.51223754882812,169.56968688964844,169.6219482421875,169.69610595703125,169.72723388671875,169.75657653808594,169.83775329589844,169.9151611328125,169.9342041015625,169.95907592773438,169.98922729492188,170.00242614746094,170.05645751953125,170.0430450439453,169.97146606445312,169.94029235839844,169.93948364257812,169.8959197998047,169.82479858398438,169.817626953125,169.8451690673828,169.82086181640625,169.837890625,169.85910034179688,169.85484313964844,169.86581420898438,169.87644958496094,169.8896942138672,169.82667541503906,169.84255981445312,169.96270751953125,170.01840209960938,170.10107421875,170.20062255859375,170.22169494628906,170.21170043945312,170.29275512695312,170.337890625,170.33457946777344,170.32363891601562,170.28115844726562,170.25946044921875,170.2572784423828,170.20758056640625,170.20059204101562,170.2115936279297,170.20486450195312,170.19456481933594,170.17489624023438,170.15211486816406,170.12339782714844,170.09674072265625,170.0564727783203,169.96629333496094,169.98907470703125,169.97821044921875,169.88853454589844,169.83790588378906,169.75767517089844,169.6948699951172,169.67788696289062,169.6573486328125,169.61610412597656,169.54212951660156,169.49807739257812,169.47569274902344,169.43798828125,170.06507873535156,171.0841827392578,171.4980926513672,171.8238525390625,172.15701293945312,172.41563415527344,172.53807067871094,172.6736602783203,172.77395629882812,172.5784454345703,172.43423461914062,172.34381103515625,172.29000854492188,172.34613037109375,172.17391967773438],\"type\":\"scatter\"}],                        {\"template\":{\"data\":{\"histogram2dcontour\":[{\"type\":\"histogram2dcontour\",\"colorbar\":{\"outlinewidth\":0,\"ticks\":\"\"},\"colorscale\":[[0.0,\"#0d0887\"],[0.1111111111111111,\"#46039f\"],[0.2222222222222222,\"#7201a8\"],[0.3333333333333333,\"#9c179e\"],[0.4444444444444444,\"#bd3786\"],[0.5555555555555556,\"#d8576b\"],[0.6666666666666666,\"#ed7953\"],[0.7777777777777778,\"#fb9f3a\"],[0.8888888888888888,\"#fdca26\"],[1.0,\"#f0f921\"]]}],\"choropleth\":[{\"type\":\"choropleth\",\"colorbar\":{\"outlinewidth\":0,\"ticks\":\"\"}}],\"histogram2d\":[{\"type\":\"histogram2d\",\"colorbar\":{\"outlinewidth\":0,\"ticks\":\"\"},\"colorscale\":[[0.0,\"#0d0887\"],[0.1111111111111111,\"#46039f\"],[0.2222222222222222,\"#7201a8\"],[0.3333333333333333,\"#9c179e\"],[0.4444444444444444,\"#bd3786\"],[0.5555555555555556,\"#d8576b\"],[0.6666666666666666,\"#ed7953\"],[0.7777777777777778,\"#fb9f3a\"],[0.8888888888888888,\"#fdca26\"],[1.0,\"#f0f921\"]]}],\"heatmap\":[{\"type\":\"heatmap\",\"colorbar\":{\"outlinewidth\":0,\"ticks\":\"\"},\"colorscale\":[[0.0,\"#0d0887\"],[0.1111111111111111,\"#46039f\"],[0.2222222222222222,\"#7201a8\"],[0.3333333333333333,\"#9c179e\"],[0.4444444444444444,\"#bd3786\"],[0.5555555555555556,\"#d8576b\"],[0.6666666666666666,\"#ed7953\"],[0.7777777777777778,\"#fb9f3a\"],[0.8888888888888888,\"#fdca26\"],[1.0,\"#f0f921\"]]}],\"heatmapgl\":[{\"type\":\"heatmapgl\",\"colorbar\":{\"outlinewidth\":0,\"ticks\":\"\"},\"colorscale\":[[0.0,\"#0d0887\"],[0.1111111111111111,\"#46039f\"],[0.2222222222222222,\"#7201a8\"],[0.3333333333333333,\"#9c179e\"],[0.4444444444444444,\"#bd3786\"],[0.5555555555555556,\"#d8576b\"],[0.6666666666666666,\"#ed7953\"],[0.7777777777777778,\"#fb9f3a\"],[0.8888888888888888,\"#fdca26\"],[1.0,\"#f0f921\"]]}],\"contourcarpet\":[{\"type\":\"contourcarpet\",\"colorbar\":{\"outlinewidth\":0,\"ticks\":\"\"}}],\"contour\":[{\"type\":\"contour\",\"colorbar\":{\"outlinewidth\":0,\"ticks\":\"\"},\"colorscale\":[[0.0,\"#0d0887\"],[0.1111111111111111,\"#46039f\"],[0.2222222222222222,\"#7201a8\"],[0.3333333333333333,\"#9c179e\"],[0.4444444444444444,\"#bd3786\"],[0.5555555555555556,\"#d8576b\"],[0.6666666666666666,\"#ed7953\"],[0.7777777777777778,\"#fb9f3a\"],[0.8888888888888888,\"#fdca26\"],[1.0,\"#f0f921\"]]}],\"surface\":[{\"type\":\"surface\",\"colorbar\":{\"outlinewidth\":0,\"ticks\":\"\"},\"colorscale\":[[0.0,\"#0d0887\"],[0.1111111111111111,\"#46039f\"],[0.2222222222222222,\"#7201a8\"],[0.3333333333333333,\"#9c179e\"],[0.4444444444444444,\"#bd3786\"],[0.5555555555555556,\"#d8576b\"],[0.6666666666666666,\"#ed7953\"],[0.7777777777777778,\"#fb9f3a\"],[0.8888888888888888,\"#fdca26\"],[1.0,\"#f0f921\"]]}],\"mesh3d\":[{\"type\":\"mesh3d\",\"colorbar\":{\"outlinewidth\":0,\"ticks\":\"\"}}],\"scatter\":[{\"fillpattern\":{\"fillmode\":\"overlay\",\"size\":10,\"solidity\":0.2},\"type\":\"scatter\"}],\"parcoords\":[{\"type\":\"parcoords\",\"line\":{\"colorbar\":{\"outlinewidth\":0,\"ticks\":\"\"}}}],\"scatterpolargl\":[{\"type\":\"scatterpolargl\",\"marker\":{\"colorbar\":{\"outlinewidth\":0,\"ticks\":\"\"}}}],\"bar\":[{\"error_x\":{\"color\":\"#2a3f5f\"},\"error_y\":{\"color\":\"#2a3f5f\"},\"marker\":{\"line\":{\"color\":\"#E5ECF6\",\"width\":0.5},\"pattern\":{\"fillmode\":\"overlay\",\"size\":10,\"solidity\":0.2}},\"type\":\"bar\"}],\"scattergeo\":[{\"type\":\"scattergeo\",\"marker\":{\"colorbar\":{\"outlinewidth\":0,\"ticks\":\"\"}}}],\"scatterpolar\":[{\"type\":\"scatterpolar\",\"marker\":{\"colorbar\":{\"outlinewidth\":0,\"ticks\":\"\"}}}],\"histogram\":[{\"marker\":{\"pattern\":{\"fillmode\":\"overlay\",\"size\":10,\"solidity\":0.2}},\"type\":\"histogram\"}],\"scattergl\":[{\"type\":\"scattergl\",\"marker\":{\"colorbar\":{\"outlinewidth\":0,\"ticks\":\"\"}}}],\"scatter3d\":[{\"type\":\"scatter3d\",\"line\":{\"colorbar\":{\"outlinewidth\":0,\"ticks\":\"\"}},\"marker\":{\"colorbar\":{\"outlinewidth\":0,\"ticks\":\"\"}}}],\"scattermapbox\":[{\"type\":\"scattermapbox\",\"marker\":{\"colorbar\":{\"outlinewidth\":0,\"ticks\":\"\"}}}],\"scatterternary\":[{\"type\":\"scatterternary\",\"marker\":{\"colorbar\":{\"outlinewidth\":0,\"ticks\":\"\"}}}],\"scattercarpet\":[{\"type\":\"scattercarpet\",\"marker\":{\"colorbar\":{\"outlinewidth\":0,\"ticks\":\"\"}}}],\"carpet\":[{\"aaxis\":{\"endlinecolor\":\"#2a3f5f\",\"gridcolor\":\"white\",\"linecolor\":\"white\",\"minorgridcolor\":\"white\",\"startlinecolor\":\"#2a3f5f\"},\"baxis\":{\"endlinecolor\":\"#2a3f5f\",\"gridcolor\":\"white\",\"linecolor\":\"white\",\"minorgridcolor\":\"white\",\"startlinecolor\":\"#2a3f5f\"},\"type\":\"carpet\"}],\"table\":[{\"cells\":{\"fill\":{\"color\":\"#EBF0F8\"},\"line\":{\"color\":\"white\"}},\"header\":{\"fill\":{\"color\":\"#C8D4E3\"},\"line\":{\"color\":\"white\"}},\"type\":\"table\"}],\"barpolar\":[{\"marker\":{\"line\":{\"color\":\"#E5ECF6\",\"width\":0.5},\"pattern\":{\"fillmode\":\"overlay\",\"size\":10,\"solidity\":0.2}},\"type\":\"barpolar\"}],\"pie\":[{\"automargin\":true,\"type\":\"pie\"}]},\"layout\":{\"autotypenumbers\":\"strict\",\"colorway\":[\"#636efa\",\"#EF553B\",\"#00cc96\",\"#ab63fa\",\"#FFA15A\",\"#19d3f3\",\"#FF6692\",\"#B6E880\",\"#FF97FF\",\"#FECB52\"],\"font\":{\"color\":\"#2a3f5f\"},\"hovermode\":\"closest\",\"hoverlabel\":{\"align\":\"left\"},\"paper_bgcolor\":\"white\",\"plot_bgcolor\":\"#E5ECF6\",\"polar\":{\"bgcolor\":\"#E5ECF6\",\"angularaxis\":{\"gridcolor\":\"white\",\"linecolor\":\"white\",\"ticks\":\"\"},\"radialaxis\":{\"gridcolor\":\"white\",\"linecolor\":\"white\",\"ticks\":\"\"}},\"ternary\":{\"bgcolor\":\"#E5ECF6\",\"aaxis\":{\"gridcolor\":\"white\",\"linecolor\":\"white\",\"ticks\":\"\"},\"baxis\":{\"gridcolor\":\"white\",\"linecolor\":\"white\",\"ticks\":\"\"},\"caxis\":{\"gridcolor\":\"white\",\"linecolor\":\"white\",\"ticks\":\"\"}},\"coloraxis\":{\"colorbar\":{\"outlinewidth\":0,\"ticks\":\"\"}},\"colorscale\":{\"sequential\":[[0.0,\"#0d0887\"],[0.1111111111111111,\"#46039f\"],[0.2222222222222222,\"#7201a8\"],[0.3333333333333333,\"#9c179e\"],[0.4444444444444444,\"#bd3786\"],[0.5555555555555556,\"#d8576b\"],[0.6666666666666666,\"#ed7953\"],[0.7777777777777778,\"#fb9f3a\"],[0.8888888888888888,\"#fdca26\"],[1.0,\"#f0f921\"]],\"sequentialminus\":[[0.0,\"#0d0887\"],[0.1111111111111111,\"#46039f\"],[0.2222222222222222,\"#7201a8\"],[0.3333333333333333,\"#9c179e\"],[0.4444444444444444,\"#bd3786\"],[0.5555555555555556,\"#d8576b\"],[0.6666666666666666,\"#ed7953\"],[0.7777777777777778,\"#fb9f3a\"],[0.8888888888888888,\"#fdca26\"],[1.0,\"#f0f921\"]],\"diverging\":[[0,\"#8e0152\"],[0.1,\"#c51b7d\"],[0.2,\"#de77ae\"],[0.3,\"#f1b6da\"],[0.4,\"#fde0ef\"],[0.5,\"#f7f7f7\"],[0.6,\"#e6f5d0\"],[0.7,\"#b8e186\"],[0.8,\"#7fbc41\"],[0.9,\"#4d9221\"],[1,\"#276419\"]]},\"xaxis\":{\"gridcolor\":\"white\",\"linecolor\":\"white\",\"ticks\":\"\",\"title\":{\"standoff\":15},\"zerolinecolor\":\"white\",\"automargin\":true,\"zerolinewidth\":2},\"yaxis\":{\"gridcolor\":\"white\",\"linecolor\":\"white\",\"ticks\":\"\",\"title\":{\"standoff\":15},\"zerolinecolor\":\"white\",\"automargin\":true,\"zerolinewidth\":2},\"scene\":{\"xaxis\":{\"backgroundcolor\":\"#E5ECF6\",\"gridcolor\":\"white\",\"linecolor\":\"white\",\"showbackground\":true,\"ticks\":\"\",\"zerolinecolor\":\"white\",\"gridwidth\":2},\"yaxis\":{\"backgroundcolor\":\"#E5ECF6\",\"gridcolor\":\"white\",\"linecolor\":\"white\",\"showbackground\":true,\"ticks\":\"\",\"zerolinecolor\":\"white\",\"gridwidth\":2},\"zaxis\":{\"backgroundcolor\":\"#E5ECF6\",\"gridcolor\":\"white\",\"linecolor\":\"white\",\"showbackground\":true,\"ticks\":\"\",\"zerolinecolor\":\"white\",\"gridwidth\":2}},\"shapedefaults\":{\"line\":{\"color\":\"#2a3f5f\"}},\"annotationdefaults\":{\"arrowcolor\":\"#2a3f5f\",\"arrowhead\":0,\"arrowwidth\":1},\"geo\":{\"bgcolor\":\"white\",\"landcolor\":\"#E5ECF6\",\"subunitcolor\":\"white\",\"showland\":true,\"showlakes\":true,\"lakecolor\":\"white\"},\"title\":{\"x\":0.05},\"mapbox\":{\"style\":\"light\"}}},\"legend\":{\"orientation\":\"h\",\"x\":0.5,\"xanchor\":\"center\"},\"xaxis\":{\"gridcolor\":\"lightgrey\",\"title\":{\"text\":\"\\u0414\\u0430\\u0442\\u0430\"}},\"yaxis\":{\"gridcolor\":\"lightgrey\",\"title\":{\"text\":\"\\u0426\\u0435\\u043d\\u044b \\u043d\\u0430 \\u0430\\u043a\\u0446\\u0438\\u0438\"}},\"title\":{\"text\":\"TSLA \\u0446\\u0435\\u043d\\u044b \\u043d\\u0430 \\u0430\\u043a\\u0446\\u0438\\u0438\",\"x\":0.5},\"margin\":{\"l\":0,\"r\":0,\"t\":30,\"b\":0},\"plot_bgcolor\":\"#FFFFFF\"},                        {\"responsive\": true}                    ).then(function(){\n",
              "                            \n",
              "var gd = document.getElementById('aca749e2-885f-4b4b-82ec-67cb9b38f817');\n",
              "var x = new MutationObserver(function (mutations, observer) {{\n",
              "        var display = window.getComputedStyle(gd).display;\n",
              "        if (!display || display === 'none') {{\n",
              "            console.log([gd, 'removed!']);\n",
              "            Plotly.purge(gd);\n",
              "            observer.disconnect();\n",
              "        }}\n",
              "}});\n",
              "\n",
              "// Listen for the removal of the full notebook cells\n",
              "var notebookContainer = gd.closest('#notebook-container');\n",
              "if (notebookContainer) {{\n",
              "    x.observe(notebookContainer, {childList: true});\n",
              "}}\n",
              "\n",
              "// Listen for the clearing of the current output cell\n",
              "var outputEl = gd.closest('.output');\n",
              "if (outputEl) {{\n",
              "    x.observe(outputEl, {childList: true});\n",
              "}}\n",
              "\n",
              "                        })                };                            </script>        </div>\n",
              "</body>\n",
              "</html>"
            ]
          },
          "metadata": {}
        }
      ]
    }
  ]
}